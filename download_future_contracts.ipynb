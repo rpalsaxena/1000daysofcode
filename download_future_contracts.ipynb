{
 "cells": [
  {
   "cell_type": "markdown",
   "metadata": {},
   "source": [
    "## Download Future Contract data\n",
    "\n",
    "Make sure to download this file only once after market closing. No need to run the cells more than once otherwise multiple files may get created."
   ]
  },
  {
   "cell_type": "code",
   "execution_count": 2,
   "metadata": {},
   "outputs": [],
   "source": [
    "from datetime import date\n",
    "from nsepy import get_history\n",
    "import pandas as pd\n",
    "import os\n",
    "import datetime\n",
    "import tqdm"
   ]
  },
  {
   "cell_type": "code",
   "execution_count": 3,
   "metadata": {},
   "outputs": [],
   "source": [
    "exdates = pd.read_csv('expiry_dates.csv', header=None)\n",
    "dates = []\n",
    "for i in range(len(exdates)):\n",
    "    #print(exdates.iloc[i][0])\n",
    "    d = exdates.iloc[i][0]\n",
    "    dates.append(d)"
   ]
  },
  {
   "cell_type": "code",
   "execution_count": 4,
   "metadata": {},
   "outputs": [],
   "source": [
    "def download_contract(symbol, n, exdate, pexdate,  is_index = False):\n",
    "    exdate = datetime.datetime.strptime(exdate, '%d-%m-%Y').date()\n",
    "    pexdate = datetime.datetime.strptime(pexdate, '%d-%m-%Y').date()\n",
    "    #print(exdate)\n",
    "    df = get_history(symbol=symbol,\n",
    "                        start=pexdate,\n",
    "                        end=exdate,\n",
    "                        index=  is_index,\n",
    "                        futures=True,\n",
    "                        expiry_date= exdate)\n",
    "    #print(df)\n",
    "    if not os.path.exists(symbol):\n",
    "        os.makedirs(symbol)\n",
    "    df.to_csv('./'+symbol+'/'+symbol+'_'+str(n)+'_'+str(exdate))\n",
    "    print(\"Successfully Saved \"+'./'+symbol+'/'+symbol+'_'+str(n)+'_'+str(exdate))"
   ]
  },
  {
   "cell_type": "code",
   "execution_count": 6,
   "metadata": {},
   "outputs": [],
   "source": [
    "stk_symbols = ['INFY', 'RELIANCE', 'HINDUNILVR', 'TCS', 'KOTAKBANK', 'BAJAJFINSV',\\\n",
    "              'BAJFINANCE', 'LT', 'HDFCBANK', 'HDFC', 'TATAPOWER', 'INDUSINDBK', \\\n",
    "              'TATASTEEL']"
   ]
  },
  {
   "cell_type": "code",
   "execution_count": 7,
   "metadata": {},
   "outputs": [
    {
     "name": "stderr",
     "output_type": "stream",
     "text": [
      "\r",
      "  0%|                                                                                                                                                                                                               | 0/13 [00:00<?, ?it/s]"
     ]
    },
    {
     "name": "stdout",
     "output_type": "stream",
     "text": [
      "Successfully Saved ./INFY/INFY_1_2017-02-23\n",
      "Successfully Saved ./INFY/INFY_2_2017-03-30\n",
      "Successfully Saved ./INFY/INFY_3_2017-04-27\n",
      "Successfully Saved ./INFY/INFY_4_2017-05-25\n",
      "Successfully Saved ./INFY/INFY_5_2017-06-29\n",
      "Successfully Saved ./INFY/INFY_6_2017-07-27\n",
      "Successfully Saved ./INFY/INFY_7_2017-08-31\n",
      "Successfully Saved ./INFY/INFY_8_2017-09-28\n",
      "Successfully Saved ./INFY/INFY_9_2017-10-26\n",
      "Successfully Saved ./INFY/INFY_10_2017-11-30\n",
      "Successfully Saved ./INFY/INFY_11_2017-12-28\n",
      "Successfully Saved ./INFY/INFY_12_2018-01-25\n",
      "Successfully Saved ./INFY/INFY_13_2018-02-22\n",
      "Successfully Saved ./INFY/INFY_14_2018-03-28\n",
      "Successfully Saved ./INFY/INFY_15_2018-04-26\n",
      "Successfully Saved ./INFY/INFY_16_2018-05-31\n",
      "Successfully Saved ./INFY/INFY_17_2018-06-28\n",
      "Successfully Saved ./INFY/INFY_18_2018-07-26\n",
      "Successfully Saved ./INFY/INFY_19_2018-08-30\n",
      "Successfully Saved ./INFY/INFY_20_2018-09-27\n",
      "Successfully Saved ./INFY/INFY_21_2018-10-25\n",
      "Successfully Saved ./INFY/INFY_22_2018-11-29\n",
      "Successfully Saved ./INFY/INFY_23_2018-12-27\n",
      "Successfully Saved ./INFY/INFY_24_2019-01-31\n",
      "Successfully Saved ./INFY/INFY_25_2019-02-28\n",
      "Successfully Saved ./INFY/INFY_26_2019-03-28\n",
      "Successfully Saved ./INFY/INFY_27_2019-04-25\n",
      "Successfully Saved ./INFY/INFY_28_2019-05-30\n",
      "Successfully Saved ./INFY/INFY_29_2019-06-27\n",
      "Successfully Saved ./INFY/INFY_30_2019-07-25\n",
      "Successfully Saved ./INFY/INFY_31_2019-08-29\n",
      "Successfully Saved ./INFY/INFY_32_2019-09-26\n",
      "Successfully Saved ./INFY/INFY_33_2019-10-31\n",
      "Successfully Saved ./INFY/INFY_34_2019-11-28\n",
      "Successfully Saved ./INFY/INFY_35_2019-12-26\n",
      "Successfully Saved ./INFY/INFY_36_2020-01-30\n",
      "Successfully Saved ./INFY/INFY_37_2020-02-27\n",
      "Successfully Saved ./INFY/INFY_38_2020-03-26\n",
      "Successfully Saved ./INFY/INFY_39_2020-04-30\n",
      "Successfully Saved ./INFY/INFY_40_2020-05-28\n",
      "Successfully Saved ./INFY/INFY_41_2020-06-25\n",
      "Successfully Saved ./INFY/INFY_42_2020-07-30\n",
      "Successfully Saved ./INFY/INFY_43_2020-08-27\n",
      "Successfully Saved ./INFY/INFY_44_2020-09-24\n",
      "Successfully Saved ./INFY/INFY_45_2020-10-29\n",
      "Successfully Saved ./INFY/INFY_46_2020-11-26\n",
      "Successfully Saved ./INFY/INFY_47_2020-12-31\n",
      "Successfully Saved ./INFY/INFY_48_2021-01-28\n",
      "Successfully Saved ./INFY/INFY_49_2021-02-25\n",
      "Successfully Saved ./INFY/INFY_50_2021-03-25\n",
      "Successfully Saved ./INFY/INFY_51_2021-04-29\n",
      "Successfully Downloaded contracts ofINFY\n"
     ]
    },
    {
     "name": "stderr",
     "output_type": "stream",
     "text": [
      "\r",
      "  8%|███████████████▎                                                                                                                                                                                       | 1/13 [00:03<00:46,  3.86s/it]"
     ]
    },
    {
     "name": "stdout",
     "output_type": "stream",
     "text": [
      "Successfully Saved ./RELIANCE/RELIANCE_1_2017-02-23\n",
      "Successfully Saved ./RELIANCE/RELIANCE_2_2017-03-30\n",
      "Successfully Saved ./RELIANCE/RELIANCE_3_2017-04-27\n",
      "Successfully Saved ./RELIANCE/RELIANCE_4_2017-05-25\n",
      "Successfully Saved ./RELIANCE/RELIANCE_5_2017-06-29\n",
      "Successfully Saved ./RELIANCE/RELIANCE_6_2017-07-27\n",
      "Successfully Saved ./RELIANCE/RELIANCE_7_2017-08-31\n",
      "Successfully Saved ./RELIANCE/RELIANCE_8_2017-09-28\n",
      "Successfully Saved ./RELIANCE/RELIANCE_9_2017-10-26\n",
      "Successfully Saved ./RELIANCE/RELIANCE_10_2017-11-30\n",
      "Successfully Saved ./RELIANCE/RELIANCE_11_2017-12-28\n",
      "Successfully Saved ./RELIANCE/RELIANCE_12_2018-01-25\n",
      "Successfully Saved ./RELIANCE/RELIANCE_13_2018-02-22\n",
      "Successfully Saved ./RELIANCE/RELIANCE_14_2018-03-28\n",
      "Successfully Saved ./RELIANCE/RELIANCE_15_2018-04-26\n",
      "Successfully Saved ./RELIANCE/RELIANCE_16_2018-05-31\n",
      "Successfully Saved ./RELIANCE/RELIANCE_17_2018-06-28\n",
      "Successfully Saved ./RELIANCE/RELIANCE_18_2018-07-26\n",
      "Successfully Saved ./RELIANCE/RELIANCE_19_2018-08-30\n",
      "Successfully Saved ./RELIANCE/RELIANCE_20_2018-09-27\n",
      "Successfully Saved ./RELIANCE/RELIANCE_21_2018-10-25\n",
      "Successfully Saved ./RELIANCE/RELIANCE_22_2018-11-29\n",
      "Successfully Saved ./RELIANCE/RELIANCE_23_2018-12-27\n",
      "Successfully Saved ./RELIANCE/RELIANCE_24_2019-01-31\n",
      "Successfully Saved ./RELIANCE/RELIANCE_25_2019-02-28\n",
      "Successfully Saved ./RELIANCE/RELIANCE_26_2019-03-28\n",
      "Successfully Saved ./RELIANCE/RELIANCE_27_2019-04-25\n",
      "Successfully Saved ./RELIANCE/RELIANCE_28_2019-05-30\n",
      "Successfully Saved ./RELIANCE/RELIANCE_29_2019-06-27\n",
      "Successfully Saved ./RELIANCE/RELIANCE_30_2019-07-25\n",
      "Successfully Saved ./RELIANCE/RELIANCE_31_2019-08-29\n",
      "Successfully Saved ./RELIANCE/RELIANCE_32_2019-09-26\n",
      "Successfully Saved ./RELIANCE/RELIANCE_33_2019-10-31\n",
      "Successfully Saved ./RELIANCE/RELIANCE_34_2019-11-28\n",
      "Successfully Saved ./RELIANCE/RELIANCE_35_2019-12-26\n",
      "Successfully Saved ./RELIANCE/RELIANCE_36_2020-01-30\n",
      "Successfully Saved ./RELIANCE/RELIANCE_37_2020-02-27\n",
      "Successfully Saved ./RELIANCE/RELIANCE_38_2020-03-26\n",
      "Successfully Saved ./RELIANCE/RELIANCE_39_2020-04-30\n",
      "Successfully Saved ./RELIANCE/RELIANCE_40_2020-05-28\n",
      "Successfully Saved ./RELIANCE/RELIANCE_41_2020-06-25\n",
      "Successfully Saved ./RELIANCE/RELIANCE_42_2020-07-30\n",
      "Successfully Saved ./RELIANCE/RELIANCE_43_2020-08-27\n",
      "Successfully Saved ./RELIANCE/RELIANCE_44_2020-09-24\n",
      "Successfully Saved ./RELIANCE/RELIANCE_45_2020-10-29\n",
      "Successfully Saved ./RELIANCE/RELIANCE_46_2020-11-26\n",
      "Successfully Saved ./RELIANCE/RELIANCE_47_2020-12-31\n",
      "Successfully Saved ./RELIANCE/RELIANCE_48_2021-01-28\n",
      "Successfully Saved ./RELIANCE/RELIANCE_49_2021-02-25\n",
      "Successfully Saved ./RELIANCE/RELIANCE_50_2021-03-25\n",
      "Successfully Saved ./RELIANCE/RELIANCE_51_2021-04-29\n",
      "Successfully Downloaded contracts ofRELIANCE\n"
     ]
    },
    {
     "name": "stderr",
     "output_type": "stream",
     "text": [
      "\r",
      " 15%|██████████████████████████████▌                                                                                                                                                                        | 2/13 [00:07<00:42,  3.84s/it]"
     ]
    },
    {
     "name": "stdout",
     "output_type": "stream",
     "text": [
      "Successfully Saved ./HINDUNILVR/HINDUNILVR_1_2017-02-23\n",
      "Successfully Saved ./HINDUNILVR/HINDUNILVR_2_2017-03-30\n",
      "Successfully Saved ./HINDUNILVR/HINDUNILVR_3_2017-04-27\n",
      "Successfully Saved ./HINDUNILVR/HINDUNILVR_4_2017-05-25\n",
      "Successfully Saved ./HINDUNILVR/HINDUNILVR_5_2017-06-29\n",
      "Successfully Saved ./HINDUNILVR/HINDUNILVR_6_2017-07-27\n",
      "Successfully Saved ./HINDUNILVR/HINDUNILVR_7_2017-08-31\n",
      "Successfully Saved ./HINDUNILVR/HINDUNILVR_8_2017-09-28\n",
      "Successfully Saved ./HINDUNILVR/HINDUNILVR_9_2017-10-26\n",
      "Successfully Saved ./HINDUNILVR/HINDUNILVR_10_2017-11-30\n",
      "Successfully Saved ./HINDUNILVR/HINDUNILVR_11_2017-12-28\n",
      "Successfully Saved ./HINDUNILVR/HINDUNILVR_12_2018-01-25\n",
      "Successfully Saved ./HINDUNILVR/HINDUNILVR_13_2018-02-22\n",
      "Successfully Saved ./HINDUNILVR/HINDUNILVR_14_2018-03-28\n",
      "Successfully Saved ./HINDUNILVR/HINDUNILVR_15_2018-04-26\n",
      "Successfully Saved ./HINDUNILVR/HINDUNILVR_16_2018-05-31\n",
      "Successfully Saved ./HINDUNILVR/HINDUNILVR_17_2018-06-28\n",
      "Successfully Saved ./HINDUNILVR/HINDUNILVR_18_2018-07-26\n",
      "Successfully Saved ./HINDUNILVR/HINDUNILVR_19_2018-08-30\n",
      "Successfully Saved ./HINDUNILVR/HINDUNILVR_20_2018-09-27\n",
      "Successfully Saved ./HINDUNILVR/HINDUNILVR_21_2018-10-25\n",
      "Successfully Saved ./HINDUNILVR/HINDUNILVR_22_2018-11-29\n",
      "Successfully Saved ./HINDUNILVR/HINDUNILVR_23_2018-12-27\n",
      "Successfully Saved ./HINDUNILVR/HINDUNILVR_24_2019-01-31\n",
      "Successfully Saved ./HINDUNILVR/HINDUNILVR_25_2019-02-28\n",
      "Successfully Saved ./HINDUNILVR/HINDUNILVR_26_2019-03-28\n",
      "Successfully Saved ./HINDUNILVR/HINDUNILVR_27_2019-04-25\n",
      "Successfully Saved ./HINDUNILVR/HINDUNILVR_28_2019-05-30\n",
      "Successfully Saved ./HINDUNILVR/HINDUNILVR_29_2019-06-27\n",
      "Successfully Saved ./HINDUNILVR/HINDUNILVR_30_2019-07-25\n",
      "Successfully Saved ./HINDUNILVR/HINDUNILVR_31_2019-08-29\n",
      "Successfully Saved ./HINDUNILVR/HINDUNILVR_32_2019-09-26\n",
      "Successfully Saved ./HINDUNILVR/HINDUNILVR_33_2019-10-31\n",
      "Successfully Saved ./HINDUNILVR/HINDUNILVR_34_2019-11-28\n",
      "Successfully Saved ./HINDUNILVR/HINDUNILVR_35_2019-12-26\n",
      "Successfully Saved ./HINDUNILVR/HINDUNILVR_36_2020-01-30\n",
      "Successfully Saved ./HINDUNILVR/HINDUNILVR_37_2020-02-27\n",
      "Successfully Saved ./HINDUNILVR/HINDUNILVR_38_2020-03-26\n",
      "Successfully Saved ./HINDUNILVR/HINDUNILVR_39_2020-04-30\n",
      "Successfully Saved ./HINDUNILVR/HINDUNILVR_40_2020-05-28\n",
      "Successfully Saved ./HINDUNILVR/HINDUNILVR_41_2020-06-25\n",
      "Successfully Saved ./HINDUNILVR/HINDUNILVR_42_2020-07-30\n",
      "Successfully Saved ./HINDUNILVR/HINDUNILVR_43_2020-08-27\n",
      "Successfully Saved ./HINDUNILVR/HINDUNILVR_44_2020-09-24\n",
      "Successfully Saved ./HINDUNILVR/HINDUNILVR_45_2020-10-29\n",
      "Successfully Saved ./HINDUNILVR/HINDUNILVR_46_2020-11-26\n",
      "Successfully Saved ./HINDUNILVR/HINDUNILVR_47_2020-12-31\n",
      "Successfully Saved ./HINDUNILVR/HINDUNILVR_48_2021-01-28\n",
      "Successfully Saved ./HINDUNILVR/HINDUNILVR_49_2021-02-25\n",
      "Successfully Saved ./HINDUNILVR/HINDUNILVR_50_2021-03-25\n",
      "Successfully Saved ./HINDUNILVR/HINDUNILVR_51_2021-04-29\n",
      "Successfully Downloaded contracts ofHINDUNILVR\n"
     ]
    },
    {
     "name": "stderr",
     "output_type": "stream",
     "text": [
      "\r",
      " 23%|█████████████████████████████████████████████▉                                                                                                                                                         | 3/13 [00:13<00:44,  4.45s/it]"
     ]
    },
    {
     "name": "stdout",
     "output_type": "stream",
     "text": [
      "Problem while processingTCS's contract23-02-2017value\n",
      "Successfully Saved ./TCS/TCS_2_2017-03-30\n",
      "Successfully Saved ./TCS/TCS_3_2017-04-27\n",
      "Successfully Saved ./TCS/TCS_4_2017-05-25\n",
      "Successfully Saved ./TCS/TCS_5_2017-06-29\n",
      "Successfully Saved ./TCS/TCS_6_2017-07-27\n",
      "Successfully Saved ./TCS/TCS_7_2017-08-31\n",
      "Successfully Saved ./TCS/TCS_8_2017-09-28\n",
      "Successfully Saved ./TCS/TCS_9_2017-10-26\n",
      "Successfully Saved ./TCS/TCS_10_2017-11-30\n",
      "Successfully Saved ./TCS/TCS_11_2017-12-28\n",
      "Successfully Saved ./TCS/TCS_12_2018-01-25\n",
      "Successfully Saved ./TCS/TCS_13_2018-02-22\n",
      "Successfully Saved ./TCS/TCS_14_2018-03-28\n",
      "Successfully Saved ./TCS/TCS_15_2018-04-26\n",
      "Successfully Saved ./TCS/TCS_16_2018-05-31\n",
      "Successfully Saved ./TCS/TCS_17_2018-06-28\n",
      "Successfully Saved ./TCS/TCS_18_2018-07-26\n",
      "Successfully Saved ./TCS/TCS_19_2018-08-30\n",
      "Successfully Saved ./TCS/TCS_20_2018-09-27\n",
      "Successfully Saved ./TCS/TCS_21_2018-10-25\n",
      "Successfully Saved ./TCS/TCS_22_2018-11-29\n",
      "Successfully Saved ./TCS/TCS_23_2018-12-27\n",
      "Successfully Saved ./TCS/TCS_24_2019-01-31\n",
      "Successfully Saved ./TCS/TCS_25_2019-02-28\n",
      "Successfully Saved ./TCS/TCS_26_2019-03-28\n",
      "Successfully Saved ./TCS/TCS_27_2019-04-25\n",
      "Successfully Saved ./TCS/TCS_28_2019-05-30\n",
      "Successfully Saved ./TCS/TCS_29_2019-06-27\n",
      "Successfully Saved ./TCS/TCS_30_2019-07-25\n",
      "Successfully Saved ./TCS/TCS_31_2019-08-29\n",
      "Successfully Saved ./TCS/TCS_32_2019-09-26\n",
      "Successfully Saved ./TCS/TCS_33_2019-10-31\n",
      "Successfully Saved ./TCS/TCS_34_2019-11-28\n",
      "Successfully Saved ./TCS/TCS_35_2019-12-26\n",
      "Successfully Saved ./TCS/TCS_36_2020-01-30\n",
      "Successfully Saved ./TCS/TCS_37_2020-02-27\n",
      "Successfully Saved ./TCS/TCS_38_2020-03-26\n",
      "Successfully Saved ./TCS/TCS_39_2020-04-30\n",
      "Successfully Saved ./TCS/TCS_40_2020-05-28\n",
      "Successfully Saved ./TCS/TCS_41_2020-06-25\n",
      "Successfully Saved ./TCS/TCS_42_2020-07-30\n",
      "Successfully Saved ./TCS/TCS_43_2020-08-27\n",
      "Successfully Saved ./TCS/TCS_44_2020-09-24\n",
      "Successfully Saved ./TCS/TCS_45_2020-10-29\n",
      "Successfully Saved ./TCS/TCS_46_2020-11-26\n",
      "Successfully Saved ./TCS/TCS_47_2020-12-31\n",
      "Successfully Saved ./TCS/TCS_48_2021-01-28\n",
      "Successfully Saved ./TCS/TCS_49_2021-02-25\n",
      "Successfully Saved ./TCS/TCS_50_2021-03-25\n",
      "Successfully Saved ./TCS/TCS_51_2021-04-29\n",
      "Successfully Downloaded contracts ofTCS\n"
     ]
    },
    {
     "name": "stderr",
     "output_type": "stream",
     "text": [
      "\r",
      " 31%|█████████████████████████████████████████████████████████████▏                                                                                                                                         | 4/13 [00:28<01:09,  7.68s/it]"
     ]
    },
    {
     "name": "stdout",
     "output_type": "stream",
     "text": [
      "Successfully Saved ./KOTAKBANK/KOTAKBANK_1_2017-02-23\n",
      "Successfully Saved ./KOTAKBANK/KOTAKBANK_2_2017-03-30\n",
      "Successfully Saved ./KOTAKBANK/KOTAKBANK_3_2017-04-27\n",
      "Successfully Saved ./KOTAKBANK/KOTAKBANK_4_2017-05-25\n",
      "Successfully Saved ./KOTAKBANK/KOTAKBANK_5_2017-06-29\n",
      "Successfully Saved ./KOTAKBANK/KOTAKBANK_6_2017-07-27\n",
      "Successfully Saved ./KOTAKBANK/KOTAKBANK_7_2017-08-31\n",
      "Successfully Saved ./KOTAKBANK/KOTAKBANK_8_2017-09-28\n",
      "Successfully Saved ./KOTAKBANK/KOTAKBANK_9_2017-10-26\n",
      "Successfully Saved ./KOTAKBANK/KOTAKBANK_10_2017-11-30\n",
      "Successfully Saved ./KOTAKBANK/KOTAKBANK_11_2017-12-28\n",
      "Successfully Saved ./KOTAKBANK/KOTAKBANK_12_2018-01-25\n",
      "Successfully Saved ./KOTAKBANK/KOTAKBANK_13_2018-02-22\n",
      "Successfully Saved ./KOTAKBANK/KOTAKBANK_14_2018-03-28\n",
      "Successfully Saved ./KOTAKBANK/KOTAKBANK_15_2018-04-26\n",
      "Successfully Saved ./KOTAKBANK/KOTAKBANK_16_2018-05-31\n",
      "Successfully Saved ./KOTAKBANK/KOTAKBANK_17_2018-06-28\n",
      "Successfully Saved ./KOTAKBANK/KOTAKBANK_18_2018-07-26\n",
      "Successfully Saved ./KOTAKBANK/KOTAKBANK_19_2018-08-30\n",
      "Successfully Saved ./KOTAKBANK/KOTAKBANK_20_2018-09-27\n",
      "Successfully Saved ./KOTAKBANK/KOTAKBANK_21_2018-10-25\n",
      "Successfully Saved ./KOTAKBANK/KOTAKBANK_22_2018-11-29\n",
      "Successfully Saved ./KOTAKBANK/KOTAKBANK_23_2018-12-27\n",
      "Successfully Saved ./KOTAKBANK/KOTAKBANK_24_2019-01-31\n",
      "Successfully Saved ./KOTAKBANK/KOTAKBANK_25_2019-02-28\n",
      "Successfully Saved ./KOTAKBANK/KOTAKBANK_26_2019-03-28\n",
      "Successfully Saved ./KOTAKBANK/KOTAKBANK_27_2019-04-25\n",
      "Successfully Saved ./KOTAKBANK/KOTAKBANK_28_2019-05-30\n",
      "Successfully Saved ./KOTAKBANK/KOTAKBANK_29_2019-06-27\n",
      "Successfully Saved ./KOTAKBANK/KOTAKBANK_30_2019-07-25\n",
      "Successfully Saved ./KOTAKBANK/KOTAKBANK_31_2019-08-29\n",
      "Successfully Saved ./KOTAKBANK/KOTAKBANK_32_2019-09-26\n",
      "Successfully Saved ./KOTAKBANK/KOTAKBANK_33_2019-10-31\n",
      "Successfully Saved ./KOTAKBANK/KOTAKBANK_34_2019-11-28\n",
      "Successfully Saved ./KOTAKBANK/KOTAKBANK_35_2019-12-26\n",
      "Successfully Saved ./KOTAKBANK/KOTAKBANK_36_2020-01-30\n",
      "Successfully Saved ./KOTAKBANK/KOTAKBANK_37_2020-02-27\n",
      "Successfully Saved ./KOTAKBANK/KOTAKBANK_38_2020-03-26\n",
      "Successfully Saved ./KOTAKBANK/KOTAKBANK_39_2020-04-30\n",
      "Successfully Saved ./KOTAKBANK/KOTAKBANK_40_2020-05-28\n",
      "Successfully Saved ./KOTAKBANK/KOTAKBANK_41_2020-06-25\n",
      "Successfully Saved ./KOTAKBANK/KOTAKBANK_42_2020-07-30\n",
      "Successfully Saved ./KOTAKBANK/KOTAKBANK_43_2020-08-27\n",
      "Successfully Saved ./KOTAKBANK/KOTAKBANK_44_2020-09-24\n",
      "Successfully Saved ./KOTAKBANK/KOTAKBANK_45_2020-10-29\n",
      "Successfully Saved ./KOTAKBANK/KOTAKBANK_46_2020-11-26\n",
      "Successfully Saved ./KOTAKBANK/KOTAKBANK_47_2020-12-31\n",
      "Successfully Saved ./KOTAKBANK/KOTAKBANK_48_2021-01-28\n",
      "Successfully Saved ./KOTAKBANK/KOTAKBANK_49_2021-02-25\n",
      "Successfully Saved ./KOTAKBANK/KOTAKBANK_50_2021-03-25\n",
      "Successfully Saved ./KOTAKBANK/KOTAKBANK_51_2021-04-29\n",
      "Successfully Downloaded contracts ofKOTAKBANK\n"
     ]
    },
    {
     "name": "stderr",
     "output_type": "stream",
     "text": [
      "\r",
      " 38%|████████████████████████████████████████████████████████████████████████████▌                                                                                                                          | 5/13 [00:48<01:31, 11.43s/it]"
     ]
    },
    {
     "name": "stdout",
     "output_type": "stream",
     "text": [
      "Successfully Saved ./BAJAJFINSV/BAJAJFINSV_1_2017-02-23\n",
      "Successfully Saved ./BAJAJFINSV/BAJAJFINSV_2_2017-03-30\n",
      "Successfully Saved ./BAJAJFINSV/BAJAJFINSV_3_2017-04-27\n",
      "Successfully Saved ./BAJAJFINSV/BAJAJFINSV_4_2017-05-25\n",
      "Successfully Saved ./BAJAJFINSV/BAJAJFINSV_5_2017-06-29\n",
      "Successfully Saved ./BAJAJFINSV/BAJAJFINSV_6_2017-07-27\n",
      "Successfully Saved ./BAJAJFINSV/BAJAJFINSV_7_2017-08-31\n",
      "Successfully Saved ./BAJAJFINSV/BAJAJFINSV_8_2017-09-28\n",
      "Successfully Saved ./BAJAJFINSV/BAJAJFINSV_9_2017-10-26\n",
      "Successfully Saved ./BAJAJFINSV/BAJAJFINSV_10_2017-11-30\n",
      "Successfully Saved ./BAJAJFINSV/BAJAJFINSV_11_2017-12-28\n",
      "Successfully Saved ./BAJAJFINSV/BAJAJFINSV_12_2018-01-25\n",
      "Successfully Saved ./BAJAJFINSV/BAJAJFINSV_13_2018-02-22\n",
      "Successfully Saved ./BAJAJFINSV/BAJAJFINSV_14_2018-03-28\n",
      "Successfully Saved ./BAJAJFINSV/BAJAJFINSV_15_2018-04-26\n",
      "Successfully Saved ./BAJAJFINSV/BAJAJFINSV_16_2018-05-31\n",
      "Successfully Saved ./BAJAJFINSV/BAJAJFINSV_17_2018-06-28\n",
      "Successfully Saved ./BAJAJFINSV/BAJAJFINSV_18_2018-07-26\n",
      "Successfully Saved ./BAJAJFINSV/BAJAJFINSV_19_2018-08-30\n",
      "Successfully Saved ./BAJAJFINSV/BAJAJFINSV_20_2018-09-27\n",
      "Successfully Saved ./BAJAJFINSV/BAJAJFINSV_21_2018-10-25\n",
      "Successfully Saved ./BAJAJFINSV/BAJAJFINSV_22_2018-11-29\n",
      "Successfully Saved ./BAJAJFINSV/BAJAJFINSV_23_2018-12-27\n",
      "Successfully Saved ./BAJAJFINSV/BAJAJFINSV_24_2019-01-31\n",
      "Successfully Saved ./BAJAJFINSV/BAJAJFINSV_25_2019-02-28\n",
      "Successfully Saved ./BAJAJFINSV/BAJAJFINSV_26_2019-03-28\n",
      "Successfully Saved ./BAJAJFINSV/BAJAJFINSV_27_2019-04-25\n",
      "Successfully Saved ./BAJAJFINSV/BAJAJFINSV_28_2019-05-30\n",
      "Successfully Saved ./BAJAJFINSV/BAJAJFINSV_29_2019-06-27\n",
      "Successfully Saved ./BAJAJFINSV/BAJAJFINSV_30_2019-07-25\n",
      "Successfully Saved ./BAJAJFINSV/BAJAJFINSV_31_2019-08-29\n",
      "Successfully Saved ./BAJAJFINSV/BAJAJFINSV_32_2019-09-26\n",
      "Successfully Saved ./BAJAJFINSV/BAJAJFINSV_33_2019-10-31\n",
      "Successfully Saved ./BAJAJFINSV/BAJAJFINSV_34_2019-11-28\n",
      "Successfully Saved ./BAJAJFINSV/BAJAJFINSV_35_2019-12-26\n",
      "Successfully Saved ./BAJAJFINSV/BAJAJFINSV_36_2020-01-30\n",
      "Successfully Saved ./BAJAJFINSV/BAJAJFINSV_37_2020-02-27\n",
      "Successfully Saved ./BAJAJFINSV/BAJAJFINSV_38_2020-03-26\n",
      "Successfully Saved ./BAJAJFINSV/BAJAJFINSV_39_2020-04-30\n",
      "Successfully Saved ./BAJAJFINSV/BAJAJFINSV_40_2020-05-28\n",
      "Successfully Saved ./BAJAJFINSV/BAJAJFINSV_41_2020-06-25\n",
      "Successfully Saved ./BAJAJFINSV/BAJAJFINSV_42_2020-07-30\n",
      "Successfully Saved ./BAJAJFINSV/BAJAJFINSV_43_2020-08-27\n",
      "Successfully Saved ./BAJAJFINSV/BAJAJFINSV_44_2020-09-24\n",
      "Successfully Saved ./BAJAJFINSV/BAJAJFINSV_45_2020-10-29\n",
      "Successfully Saved ./BAJAJFINSV/BAJAJFINSV_46_2020-11-26\n",
      "Successfully Saved ./BAJAJFINSV/BAJAJFINSV_47_2020-12-31\n",
      "Successfully Saved ./BAJAJFINSV/BAJAJFINSV_48_2021-01-28\n",
      "Successfully Saved ./BAJAJFINSV/BAJAJFINSV_49_2021-02-25\n",
      "Successfully Saved ./BAJAJFINSV/BAJAJFINSV_50_2021-03-25\n",
      "Successfully Saved ./BAJAJFINSV/BAJAJFINSV_51_2021-04-29\n",
      "Successfully Downloaded contracts ofBAJAJFINSV\n"
     ]
    },
    {
     "name": "stderr",
     "output_type": "stream",
     "text": [
      "\r",
      " 46%|███████████████████████████████████████████████████████████████████████████████████████████▊                                                                                                           | 6/13 [01:03<01:26, 12.31s/it]"
     ]
    },
    {
     "name": "stdout",
     "output_type": "stream",
     "text": [
      "Successfully Saved ./BAJFINANCE/BAJFINANCE_1_2017-02-23\n",
      "Successfully Saved ./BAJFINANCE/BAJFINANCE_2_2017-03-30\n",
      "Successfully Saved ./BAJFINANCE/BAJFINANCE_3_2017-04-27\n",
      "Successfully Saved ./BAJFINANCE/BAJFINANCE_4_2017-05-25\n",
      "Successfully Saved ./BAJFINANCE/BAJFINANCE_5_2017-06-29\n",
      "Successfully Saved ./BAJFINANCE/BAJFINANCE_6_2017-07-27\n",
      "Successfully Saved ./BAJFINANCE/BAJFINANCE_7_2017-08-31\n",
      "Successfully Saved ./BAJFINANCE/BAJFINANCE_8_2017-09-28\n",
      "Successfully Saved ./BAJFINANCE/BAJFINANCE_9_2017-10-26\n",
      "Successfully Saved ./BAJFINANCE/BAJFINANCE_10_2017-11-30\n",
      "Successfully Saved ./BAJFINANCE/BAJFINANCE_11_2017-12-28\n",
      "Successfully Saved ./BAJFINANCE/BAJFINANCE_12_2018-01-25\n",
      "Successfully Saved ./BAJFINANCE/BAJFINANCE_13_2018-02-22\n",
      "Successfully Saved ./BAJFINANCE/BAJFINANCE_14_2018-03-28\n",
      "Successfully Saved ./BAJFINANCE/BAJFINANCE_15_2018-04-26\n",
      "Successfully Saved ./BAJFINANCE/BAJFINANCE_16_2018-05-31\n",
      "Successfully Saved ./BAJFINANCE/BAJFINANCE_17_2018-06-28\n",
      "Successfully Saved ./BAJFINANCE/BAJFINANCE_18_2018-07-26\n",
      "Successfully Saved ./BAJFINANCE/BAJFINANCE_19_2018-08-30\n",
      "Successfully Saved ./BAJFINANCE/BAJFINANCE_20_2018-09-27\n",
      "Successfully Saved ./BAJFINANCE/BAJFINANCE_21_2018-10-25\n",
      "Successfully Saved ./BAJFINANCE/BAJFINANCE_22_2018-11-29\n",
      "Successfully Saved ./BAJFINANCE/BAJFINANCE_23_2018-12-27\n",
      "Successfully Saved ./BAJFINANCE/BAJFINANCE_24_2019-01-31\n",
      "Successfully Saved ./BAJFINANCE/BAJFINANCE_25_2019-02-28\n",
      "Successfully Saved ./BAJFINANCE/BAJFINANCE_26_2019-03-28\n",
      "Successfully Saved ./BAJFINANCE/BAJFINANCE_27_2019-04-25\n",
      "Successfully Saved ./BAJFINANCE/BAJFINANCE_28_2019-05-30\n",
      "Successfully Saved ./BAJFINANCE/BAJFINANCE_29_2019-06-27\n",
      "Successfully Saved ./BAJFINANCE/BAJFINANCE_30_2019-07-25\n",
      "Successfully Saved ./BAJFINANCE/BAJFINANCE_31_2019-08-29\n",
      "Successfully Saved ./BAJFINANCE/BAJFINANCE_32_2019-09-26\n",
      "Successfully Saved ./BAJFINANCE/BAJFINANCE_33_2019-10-31\n",
      "Successfully Saved ./BAJFINANCE/BAJFINANCE_34_2019-11-28\n",
      "Successfully Saved ./BAJFINANCE/BAJFINANCE_35_2019-12-26\n",
      "Successfully Saved ./BAJFINANCE/BAJFINANCE_36_2020-01-30\n",
      "Successfully Saved ./BAJFINANCE/BAJFINANCE_37_2020-02-27\n",
      "Successfully Saved ./BAJFINANCE/BAJFINANCE_38_2020-03-26\n",
      "Successfully Saved ./BAJFINANCE/BAJFINANCE_39_2020-04-30\n",
      "Successfully Saved ./BAJFINANCE/BAJFINANCE_40_2020-05-28\n",
      "Successfully Saved ./BAJFINANCE/BAJFINANCE_41_2020-06-25\n",
      "Successfully Saved ./BAJFINANCE/BAJFINANCE_42_2020-07-30\n",
      "Successfully Saved ./BAJFINANCE/BAJFINANCE_43_2020-08-27\n",
      "Successfully Saved ./BAJFINANCE/BAJFINANCE_44_2020-09-24\n",
      "Successfully Saved ./BAJFINANCE/BAJFINANCE_45_2020-10-29\n",
      "Successfully Saved ./BAJFINANCE/BAJFINANCE_46_2020-11-26\n",
      "Successfully Saved ./BAJFINANCE/BAJFINANCE_47_2020-12-31\n",
      "Successfully Saved ./BAJFINANCE/BAJFINANCE_48_2021-01-28\n",
      "Successfully Saved ./BAJFINANCE/BAJFINANCE_49_2021-02-25\n",
      "Successfully Saved ./BAJFINANCE/BAJFINANCE_50_2021-03-25\n",
      "Successfully Saved ./BAJFINANCE/BAJFINANCE_51_2021-04-29\n",
      "Successfully Downloaded contracts ofBAJFINANCE\n"
     ]
    },
    {
     "name": "stderr",
     "output_type": "stream",
     "text": [
      "\r",
      " 54%|███████████████████████████████████████████████████████████████████████████████████████████████████████████▏                                                                                           | 7/13 [01:16<01:15, 12.51s/it]"
     ]
    },
    {
     "name": "stdout",
     "output_type": "stream",
     "text": [
      "Successfully Saved ./LT/LT_1_2017-02-23\n",
      "Successfully Saved ./LT/LT_2_2017-03-30\n",
      "Successfully Saved ./LT/LT_3_2017-04-27\n",
      "Successfully Saved ./LT/LT_4_2017-05-25\n",
      "Successfully Saved ./LT/LT_5_2017-06-29\n",
      "Successfully Saved ./LT/LT_6_2017-07-27\n",
      "Successfully Saved ./LT/LT_7_2017-08-31\n",
      "Successfully Saved ./LT/LT_8_2017-09-28\n",
      "Successfully Saved ./LT/LT_9_2017-10-26\n",
      "Successfully Saved ./LT/LT_10_2017-11-30\n",
      "Successfully Saved ./LT/LT_11_2017-12-28\n",
      "Successfully Saved ./LT/LT_12_2018-01-25\n",
      "Successfully Saved ./LT/LT_13_2018-02-22\n",
      "Successfully Saved ./LT/LT_14_2018-03-28\n",
      "Successfully Saved ./LT/LT_15_2018-04-26\n",
      "Successfully Saved ./LT/LT_16_2018-05-31\n",
      "Successfully Saved ./LT/LT_17_2018-06-28\n",
      "Successfully Saved ./LT/LT_18_2018-07-26\n",
      "Successfully Saved ./LT/LT_19_2018-08-30\n",
      "Successfully Saved ./LT/LT_20_2018-09-27\n",
      "Successfully Saved ./LT/LT_21_2018-10-25\n",
      "Successfully Saved ./LT/LT_22_2018-11-29\n",
      "Successfully Saved ./LT/LT_23_2018-12-27\n",
      "Successfully Saved ./LT/LT_24_2019-01-31\n",
      "Successfully Saved ./LT/LT_25_2019-02-28\n",
      "Successfully Saved ./LT/LT_26_2019-03-28\n",
      "Successfully Saved ./LT/LT_27_2019-04-25\n",
      "Successfully Saved ./LT/LT_28_2019-05-30\n",
      "Successfully Saved ./LT/LT_29_2019-06-27\n",
      "Successfully Saved ./LT/LT_30_2019-07-25\n",
      "Successfully Saved ./LT/LT_31_2019-08-29\n",
      "Successfully Saved ./LT/LT_32_2019-09-26\n",
      "Successfully Saved ./LT/LT_33_2019-10-31\n",
      "Successfully Saved ./LT/LT_34_2019-11-28\n",
      "Successfully Saved ./LT/LT_35_2019-12-26\n",
      "Successfully Saved ./LT/LT_36_2020-01-30\n",
      "Successfully Saved ./LT/LT_37_2020-02-27\n",
      "Successfully Saved ./LT/LT_38_2020-03-26\n",
      "Successfully Saved ./LT/LT_39_2020-04-30\n",
      "Successfully Saved ./LT/LT_40_2020-05-28\n",
      "Successfully Saved ./LT/LT_41_2020-06-25\n",
      "Successfully Saved ./LT/LT_42_2020-07-30\n",
      "Successfully Saved ./LT/LT_43_2020-08-27\n",
      "Successfully Saved ./LT/LT_44_2020-09-24\n",
      "Successfully Saved ./LT/LT_45_2020-10-29\n",
      "Successfully Saved ./LT/LT_46_2020-11-26\n",
      "Successfully Saved ./LT/LT_47_2020-12-31\n",
      "Successfully Saved ./LT/LT_48_2021-01-28\n",
      "Successfully Saved ./LT/LT_49_2021-02-25\n",
      "Successfully Saved ./LT/LT_50_2021-03-25\n",
      "Successfully Saved ./LT/LT_51_2021-04-29\n",
      "Successfully Downloaded contracts ofLT\n"
     ]
    },
    {
     "name": "stderr",
     "output_type": "stream",
     "text": [
      "\r",
      " 62%|██████████████████████████████████████████████████████████████████████████████████████████████████████████████████████████▍                                                                            | 8/13 [01:31<01:07, 13.41s/it]"
     ]
    },
    {
     "name": "stdout",
     "output_type": "stream",
     "text": [
      "Successfully Saved ./HDFCBANK/HDFCBANK_1_2017-02-23\n",
      "Successfully Saved ./HDFCBANK/HDFCBANK_2_2017-03-30\n",
      "Successfully Saved ./HDFCBANK/HDFCBANK_3_2017-04-27\n",
      "Successfully Saved ./HDFCBANK/HDFCBANK_4_2017-05-25\n",
      "Successfully Saved ./HDFCBANK/HDFCBANK_5_2017-06-29\n",
      "Successfully Saved ./HDFCBANK/HDFCBANK_6_2017-07-27\n",
      "Successfully Saved ./HDFCBANK/HDFCBANK_7_2017-08-31\n",
      "Successfully Saved ./HDFCBANK/HDFCBANK_8_2017-09-28\n",
      "Successfully Saved ./HDFCBANK/HDFCBANK_9_2017-10-26\n",
      "Successfully Saved ./HDFCBANK/HDFCBANK_10_2017-11-30\n",
      "Successfully Saved ./HDFCBANK/HDFCBANK_11_2017-12-28\n",
      "Successfully Saved ./HDFCBANK/HDFCBANK_12_2018-01-25\n",
      "Successfully Saved ./HDFCBANK/HDFCBANK_13_2018-02-22\n",
      "Successfully Saved ./HDFCBANK/HDFCBANK_14_2018-03-28\n",
      "Successfully Saved ./HDFCBANK/HDFCBANK_15_2018-04-26\n",
      "Successfully Saved ./HDFCBANK/HDFCBANK_16_2018-05-31\n",
      "Successfully Saved ./HDFCBANK/HDFCBANK_17_2018-06-28\n",
      "Successfully Saved ./HDFCBANK/HDFCBANK_18_2018-07-26\n",
      "Successfully Saved ./HDFCBANK/HDFCBANK_19_2018-08-30\n",
      "Successfully Saved ./HDFCBANK/HDFCBANK_20_2018-09-27\n",
      "Successfully Saved ./HDFCBANK/HDFCBANK_21_2018-10-25\n",
      "Successfully Saved ./HDFCBANK/HDFCBANK_22_2018-11-29\n",
      "Successfully Saved ./HDFCBANK/HDFCBANK_23_2018-12-27\n",
      "Successfully Saved ./HDFCBANK/HDFCBANK_24_2019-01-31\n",
      "Successfully Saved ./HDFCBANK/HDFCBANK_25_2019-02-28\n",
      "Successfully Saved ./HDFCBANK/HDFCBANK_26_2019-03-28\n",
      "Successfully Saved ./HDFCBANK/HDFCBANK_27_2019-04-25\n",
      "Successfully Saved ./HDFCBANK/HDFCBANK_28_2019-05-30\n",
      "Successfully Saved ./HDFCBANK/HDFCBANK_29_2019-06-27\n",
      "Successfully Saved ./HDFCBANK/HDFCBANK_30_2019-07-25\n",
      "Successfully Saved ./HDFCBANK/HDFCBANK_31_2019-08-29\n",
      "Successfully Saved ./HDFCBANK/HDFCBANK_32_2019-09-26\n",
      "Successfully Saved ./HDFCBANK/HDFCBANK_33_2019-10-31\n",
      "Successfully Saved ./HDFCBANK/HDFCBANK_34_2019-11-28\n",
      "Successfully Saved ./HDFCBANK/HDFCBANK_35_2019-12-26\n",
      "Successfully Saved ./HDFCBANK/HDFCBANK_36_2020-01-30\n",
      "Successfully Saved ./HDFCBANK/HDFCBANK_37_2020-02-27\n",
      "Successfully Saved ./HDFCBANK/HDFCBANK_38_2020-03-26\n",
      "Successfully Saved ./HDFCBANK/HDFCBANK_39_2020-04-30\n",
      "Successfully Saved ./HDFCBANK/HDFCBANK_40_2020-05-28\n",
      "Successfully Saved ./HDFCBANK/HDFCBANK_41_2020-06-25\n",
      "Successfully Saved ./HDFCBANK/HDFCBANK_42_2020-07-30\n",
      "Successfully Saved ./HDFCBANK/HDFCBANK_43_2020-08-27\n",
      "Successfully Saved ./HDFCBANK/HDFCBANK_44_2020-09-24\n",
      "Successfully Saved ./HDFCBANK/HDFCBANK_45_2020-10-29\n",
      "Successfully Saved ./HDFCBANK/HDFCBANK_46_2020-11-26\n",
      "Successfully Saved ./HDFCBANK/HDFCBANK_47_2020-12-31\n",
      "Successfully Saved ./HDFCBANK/HDFCBANK_48_2021-01-28\n",
      "Successfully Saved ./HDFCBANK/HDFCBANK_49_2021-02-25\n",
      "Successfully Saved ./HDFCBANK/HDFCBANK_50_2021-03-25\n",
      "Successfully Saved ./HDFCBANK/HDFCBANK_51_2021-04-29\n",
      "Successfully Downloaded contracts ofHDFCBANK\n"
     ]
    },
    {
     "name": "stderr",
     "output_type": "stream",
     "text": [
      "\r",
      " 69%|█████████████████████████████████████████████████████████████████████████████████████████████████████████████████████████████████████████▊                                                             | 9/13 [01:51<01:01, 15.40s/it]"
     ]
    },
    {
     "name": "stdout",
     "output_type": "stream",
     "text": [
      "Successfully Saved ./HDFC/HDFC_1_2017-02-23\n",
      "Successfully Saved ./HDFC/HDFC_2_2017-03-30\n",
      "Successfully Saved ./HDFC/HDFC_3_2017-04-27\n",
      "Successfully Saved ./HDFC/HDFC_4_2017-05-25\n",
      "Successfully Saved ./HDFC/HDFC_5_2017-06-29\n",
      "Successfully Saved ./HDFC/HDFC_6_2017-07-27\n",
      "Successfully Saved ./HDFC/HDFC_7_2017-08-31\n",
      "Successfully Saved ./HDFC/HDFC_8_2017-09-28\n",
      "Successfully Saved ./HDFC/HDFC_9_2017-10-26\n",
      "Successfully Saved ./HDFC/HDFC_10_2017-11-30\n",
      "Successfully Saved ./HDFC/HDFC_11_2017-12-28\n",
      "Successfully Saved ./HDFC/HDFC_12_2018-01-25\n",
      "Successfully Saved ./HDFC/HDFC_13_2018-02-22\n",
      "Successfully Saved ./HDFC/HDFC_14_2018-03-28\n",
      "Successfully Saved ./HDFC/HDFC_15_2018-04-26\n",
      "Successfully Saved ./HDFC/HDFC_16_2018-05-31\n",
      "Successfully Saved ./HDFC/HDFC_17_2018-06-28\n",
      "Successfully Saved ./HDFC/HDFC_18_2018-07-26\n",
      "Successfully Saved ./HDFC/HDFC_19_2018-08-30\n",
      "Successfully Saved ./HDFC/HDFC_20_2018-09-27\n",
      "Successfully Saved ./HDFC/HDFC_21_2018-10-25\n",
      "Successfully Saved ./HDFC/HDFC_22_2018-11-29\n",
      "Successfully Saved ./HDFC/HDFC_23_2018-12-27\n",
      "Successfully Saved ./HDFC/HDFC_24_2019-01-31\n",
      "Successfully Saved ./HDFC/HDFC_25_2019-02-28\n",
      "Successfully Saved ./HDFC/HDFC_26_2019-03-28\n",
      "Successfully Saved ./HDFC/HDFC_27_2019-04-25\n",
      "Successfully Saved ./HDFC/HDFC_28_2019-05-30\n",
      "Successfully Saved ./HDFC/HDFC_29_2019-06-27\n",
      "Successfully Saved ./HDFC/HDFC_30_2019-07-25\n",
      "Successfully Saved ./HDFC/HDFC_31_2019-08-29\n",
      "Successfully Saved ./HDFC/HDFC_32_2019-09-26\n",
      "Successfully Saved ./HDFC/HDFC_33_2019-10-31\n",
      "Successfully Saved ./HDFC/HDFC_34_2019-11-28\n",
      "Successfully Saved ./HDFC/HDFC_35_2019-12-26\n",
      "Successfully Saved ./HDFC/HDFC_36_2020-01-30\n",
      "Successfully Saved ./HDFC/HDFC_37_2020-02-27\n",
      "Successfully Saved ./HDFC/HDFC_38_2020-03-26\n",
      "Successfully Saved ./HDFC/HDFC_39_2020-04-30\n",
      "Successfully Saved ./HDFC/HDFC_40_2020-05-28\n",
      "Successfully Saved ./HDFC/HDFC_41_2020-06-25\n",
      "Successfully Saved ./HDFC/HDFC_42_2020-07-30\n",
      "Successfully Saved ./HDFC/HDFC_43_2020-08-27\n",
      "Successfully Saved ./HDFC/HDFC_44_2020-09-24\n",
      "Successfully Saved ./HDFC/HDFC_45_2020-10-29\n",
      "Successfully Saved ./HDFC/HDFC_46_2020-11-26\n",
      "Successfully Saved ./HDFC/HDFC_47_2020-12-31\n",
      "Successfully Saved ./HDFC/HDFC_48_2021-01-28\n",
      "Successfully Saved ./HDFC/HDFC_49_2021-02-25\n",
      "Successfully Saved ./HDFC/HDFC_50_2021-03-25\n",
      "Successfully Saved ./HDFC/HDFC_51_2021-04-29\n",
      "Successfully Downloaded contracts ofHDFC\n"
     ]
    },
    {
     "name": "stderr",
     "output_type": "stream",
     "text": [
      "\r",
      " 77%|████████████████████████████████████████████████████████████████████████████████████████████████████████████████████████████████████████████████████████▎                                             | 10/13 [02:06<00:45, 15.29s/it]"
     ]
    },
    {
     "name": "stdout",
     "output_type": "stream",
     "text": [
      "Successfully Saved ./TATAPOWER/TATAPOWER_1_2017-02-23\n",
      "Successfully Saved ./TATAPOWER/TATAPOWER_2_2017-03-30\n",
      "Successfully Saved ./TATAPOWER/TATAPOWER_3_2017-04-27\n",
      "Successfully Saved ./TATAPOWER/TATAPOWER_4_2017-05-25\n",
      "Successfully Saved ./TATAPOWER/TATAPOWER_5_2017-06-29\n",
      "Successfully Saved ./TATAPOWER/TATAPOWER_6_2017-07-27\n",
      "Successfully Saved ./TATAPOWER/TATAPOWER_7_2017-08-31\n",
      "Successfully Saved ./TATAPOWER/TATAPOWER_8_2017-09-28\n",
      "Successfully Saved ./TATAPOWER/TATAPOWER_9_2017-10-26\n",
      "Successfully Saved ./TATAPOWER/TATAPOWER_10_2017-11-30\n",
      "Successfully Saved ./TATAPOWER/TATAPOWER_11_2017-12-28\n",
      "Successfully Saved ./TATAPOWER/TATAPOWER_12_2018-01-25\n",
      "Successfully Saved ./TATAPOWER/TATAPOWER_13_2018-02-22\n",
      "Successfully Saved ./TATAPOWER/TATAPOWER_14_2018-03-28\n",
      "Successfully Saved ./TATAPOWER/TATAPOWER_15_2018-04-26\n",
      "Successfully Saved ./TATAPOWER/TATAPOWER_16_2018-05-31\n",
      "Successfully Saved ./TATAPOWER/TATAPOWER_17_2018-06-28\n",
      "Successfully Saved ./TATAPOWER/TATAPOWER_18_2018-07-26\n",
      "Successfully Saved ./TATAPOWER/TATAPOWER_19_2018-08-30\n",
      "Successfully Saved ./TATAPOWER/TATAPOWER_20_2018-09-27\n",
      "Successfully Saved ./TATAPOWER/TATAPOWER_21_2018-10-25\n",
      "Successfully Saved ./TATAPOWER/TATAPOWER_22_2018-11-29\n",
      "Successfully Saved ./TATAPOWER/TATAPOWER_23_2018-12-27\n",
      "Successfully Saved ./TATAPOWER/TATAPOWER_24_2019-01-31\n",
      "Successfully Saved ./TATAPOWER/TATAPOWER_25_2019-02-28\n",
      "Successfully Saved ./TATAPOWER/TATAPOWER_26_2019-03-28\n",
      "Successfully Saved ./TATAPOWER/TATAPOWER_27_2019-04-25\n",
      "Successfully Saved ./TATAPOWER/TATAPOWER_28_2019-05-30\n",
      "Successfully Saved ./TATAPOWER/TATAPOWER_29_2019-06-27\n",
      "Successfully Saved ./TATAPOWER/TATAPOWER_30_2019-07-25\n",
      "Successfully Saved ./TATAPOWER/TATAPOWER_31_2019-08-29\n",
      "Successfully Saved ./TATAPOWER/TATAPOWER_32_2019-09-26\n",
      "Successfully Saved ./TATAPOWER/TATAPOWER_33_2019-10-31\n",
      "Successfully Saved ./TATAPOWER/TATAPOWER_34_2019-11-28\n",
      "Successfully Saved ./TATAPOWER/TATAPOWER_35_2019-12-26\n",
      "Successfully Saved ./TATAPOWER/TATAPOWER_36_2020-01-30\n",
      "Successfully Saved ./TATAPOWER/TATAPOWER_37_2020-02-27\n",
      "Successfully Saved ./TATAPOWER/TATAPOWER_38_2020-03-26\n",
      "Successfully Saved ./TATAPOWER/TATAPOWER_39_2020-04-30\n",
      "Successfully Saved ./TATAPOWER/TATAPOWER_40_2020-05-28\n",
      "Successfully Saved ./TATAPOWER/TATAPOWER_41_2020-06-25\n",
      "Successfully Saved ./TATAPOWER/TATAPOWER_42_2020-07-30\n",
      "Successfully Saved ./TATAPOWER/TATAPOWER_43_2020-08-27\n",
      "Successfully Saved ./TATAPOWER/TATAPOWER_44_2020-09-24\n",
      "Successfully Saved ./TATAPOWER/TATAPOWER_45_2020-10-29\n",
      "Successfully Saved ./TATAPOWER/TATAPOWER_46_2020-11-26\n",
      "Successfully Saved ./TATAPOWER/TATAPOWER_47_2020-12-31\n",
      "Successfully Saved ./TATAPOWER/TATAPOWER_48_2021-01-28\n",
      "Successfully Saved ./TATAPOWER/TATAPOWER_49_2021-02-25\n",
      "Successfully Saved ./TATAPOWER/TATAPOWER_50_2021-03-25\n",
      "Successfully Saved ./TATAPOWER/TATAPOWER_51_2021-04-29\n",
      "Successfully Downloaded contracts ofTATAPOWER\n"
     ]
    },
    {
     "name": "stderr",
     "output_type": "stream",
     "text": [
      "\r",
      " 85%|███████████████████████████████████████████████████████████████████████████████████████████████████████████████████████████████████████████████████████████████████████▌                              | 11/13 [02:20<00:29, 14.65s/it]"
     ]
    },
    {
     "name": "stdout",
     "output_type": "stream",
     "text": [
      "Successfully Saved ./INDUSINDBK/INDUSINDBK_1_2017-02-23\n",
      "Successfully Saved ./INDUSINDBK/INDUSINDBK_2_2017-03-30\n",
      "Successfully Saved ./INDUSINDBK/INDUSINDBK_3_2017-04-27\n",
      "Successfully Saved ./INDUSINDBK/INDUSINDBK_4_2017-05-25\n",
      "Successfully Saved ./INDUSINDBK/INDUSINDBK_5_2017-06-29\n",
      "Successfully Saved ./INDUSINDBK/INDUSINDBK_6_2017-07-27\n",
      "Successfully Saved ./INDUSINDBK/INDUSINDBK_7_2017-08-31\n",
      "Successfully Saved ./INDUSINDBK/INDUSINDBK_8_2017-09-28\n",
      "Successfully Saved ./INDUSINDBK/INDUSINDBK_9_2017-10-26\n",
      "Successfully Saved ./INDUSINDBK/INDUSINDBK_10_2017-11-30\n",
      "Successfully Saved ./INDUSINDBK/INDUSINDBK_11_2017-12-28\n",
      "Successfully Saved ./INDUSINDBK/INDUSINDBK_12_2018-01-25\n",
      "Successfully Saved ./INDUSINDBK/INDUSINDBK_13_2018-02-22\n",
      "Successfully Saved ./INDUSINDBK/INDUSINDBK_14_2018-03-28\n",
      "Successfully Saved ./INDUSINDBK/INDUSINDBK_15_2018-04-26\n",
      "Successfully Saved ./INDUSINDBK/INDUSINDBK_16_2018-05-31\n",
      "Successfully Saved ./INDUSINDBK/INDUSINDBK_17_2018-06-28\n",
      "Successfully Saved ./INDUSINDBK/INDUSINDBK_18_2018-07-26\n",
      "Successfully Saved ./INDUSINDBK/INDUSINDBK_19_2018-08-30\n",
      "Successfully Saved ./INDUSINDBK/INDUSINDBK_20_2018-09-27\n",
      "Successfully Saved ./INDUSINDBK/INDUSINDBK_21_2018-10-25\n",
      "Successfully Saved ./INDUSINDBK/INDUSINDBK_22_2018-11-29\n",
      "Successfully Saved ./INDUSINDBK/INDUSINDBK_23_2018-12-27\n",
      "Successfully Saved ./INDUSINDBK/INDUSINDBK_24_2019-01-31\n",
      "Successfully Saved ./INDUSINDBK/INDUSINDBK_25_2019-02-28\n",
      "Successfully Saved ./INDUSINDBK/INDUSINDBK_26_2019-03-28\n",
      "Successfully Saved ./INDUSINDBK/INDUSINDBK_27_2019-04-25\n",
      "Successfully Saved ./INDUSINDBK/INDUSINDBK_28_2019-05-30\n",
      "Successfully Saved ./INDUSINDBK/INDUSINDBK_29_2019-06-27\n",
      "Successfully Saved ./INDUSINDBK/INDUSINDBK_30_2019-07-25\n",
      "Successfully Saved ./INDUSINDBK/INDUSINDBK_31_2019-08-29\n",
      "Successfully Saved ./INDUSINDBK/INDUSINDBK_32_2019-09-26\n",
      "Successfully Saved ./INDUSINDBK/INDUSINDBK_33_2019-10-31\n",
      "Successfully Saved ./INDUSINDBK/INDUSINDBK_34_2019-11-28\n",
      "Successfully Saved ./INDUSINDBK/INDUSINDBK_35_2019-12-26\n",
      "Successfully Saved ./INDUSINDBK/INDUSINDBK_36_2020-01-30\n",
      "Successfully Saved ./INDUSINDBK/INDUSINDBK_37_2020-02-27\n",
      "Successfully Saved ./INDUSINDBK/INDUSINDBK_38_2020-03-26\n",
      "Successfully Saved ./INDUSINDBK/INDUSINDBK_39_2020-04-30\n",
      "Successfully Saved ./INDUSINDBK/INDUSINDBK_40_2020-05-28\n",
      "Successfully Saved ./INDUSINDBK/INDUSINDBK_41_2020-06-25\n",
      "Successfully Saved ./INDUSINDBK/INDUSINDBK_42_2020-07-30\n",
      "Successfully Saved ./INDUSINDBK/INDUSINDBK_43_2020-08-27\n",
      "Successfully Saved ./INDUSINDBK/INDUSINDBK_44_2020-09-24\n",
      "Successfully Saved ./INDUSINDBK/INDUSINDBK_45_2020-10-29\n",
      "Successfully Saved ./INDUSINDBK/INDUSINDBK_46_2020-11-26\n",
      "Successfully Saved ./INDUSINDBK/INDUSINDBK_47_2020-12-31\n",
      "Successfully Saved ./INDUSINDBK/INDUSINDBK_48_2021-01-28\n",
      "Successfully Saved ./INDUSINDBK/INDUSINDBK_49_2021-02-25\n",
      "Successfully Saved ./INDUSINDBK/INDUSINDBK_50_2021-03-25\n",
      "Successfully Saved ./INDUSINDBK/INDUSINDBK_51_2021-04-29\n",
      "Successfully Downloaded contracts ofINDUSINDBK\n"
     ]
    },
    {
     "name": "stderr",
     "output_type": "stream",
     "text": [
      "\r",
      " 92%|██████████████████████████████████████████████████████████████████████████████████████████████████████████████████████████████████████████████████████████████████████████████████████▊               | 12/13 [02:33<00:14, 14.43s/it]"
     ]
    },
    {
     "name": "stdout",
     "output_type": "stream",
     "text": [
      "Successfully Saved ./TATASTEEL/TATASTEEL_1_2017-02-23\n",
      "Successfully Saved ./TATASTEEL/TATASTEEL_2_2017-03-30\n",
      "Successfully Saved ./TATASTEEL/TATASTEEL_3_2017-04-27\n",
      "Successfully Saved ./TATASTEEL/TATASTEEL_4_2017-05-25\n",
      "Successfully Saved ./TATASTEEL/TATASTEEL_5_2017-06-29\n",
      "Successfully Saved ./TATASTEEL/TATASTEEL_6_2017-07-27\n",
      "Successfully Saved ./TATASTEEL/TATASTEEL_7_2017-08-31\n",
      "Successfully Saved ./TATASTEEL/TATASTEEL_8_2017-09-28\n",
      "Successfully Saved ./TATASTEEL/TATASTEEL_9_2017-10-26\n",
      "Successfully Saved ./TATASTEEL/TATASTEEL_10_2017-11-30\n",
      "Successfully Saved ./TATASTEEL/TATASTEEL_11_2017-12-28\n",
      "Successfully Saved ./TATASTEEL/TATASTEEL_12_2018-01-25\n",
      "Successfully Saved ./TATASTEEL/TATASTEEL_13_2018-02-22\n",
      "Successfully Saved ./TATASTEEL/TATASTEEL_14_2018-03-28\n",
      "Successfully Saved ./TATASTEEL/TATASTEEL_15_2018-04-26\n",
      "Successfully Saved ./TATASTEEL/TATASTEEL_16_2018-05-31\n",
      "Successfully Saved ./TATASTEEL/TATASTEEL_17_2018-06-28\n",
      "Successfully Saved ./TATASTEEL/TATASTEEL_18_2018-07-26\n",
      "Successfully Saved ./TATASTEEL/TATASTEEL_19_2018-08-30\n",
      "Successfully Saved ./TATASTEEL/TATASTEEL_20_2018-09-27\n",
      "Successfully Saved ./TATASTEEL/TATASTEEL_21_2018-10-25\n",
      "Successfully Saved ./TATASTEEL/TATASTEEL_22_2018-11-29\n",
      "Successfully Saved ./TATASTEEL/TATASTEEL_23_2018-12-27\n",
      "Successfully Saved ./TATASTEEL/TATASTEEL_24_2019-01-31\n",
      "Successfully Saved ./TATASTEEL/TATASTEEL_25_2019-02-28\n",
      "Successfully Saved ./TATASTEEL/TATASTEEL_26_2019-03-28\n",
      "Successfully Saved ./TATASTEEL/TATASTEEL_27_2019-04-25\n",
      "Successfully Saved ./TATASTEEL/TATASTEEL_28_2019-05-30\n",
      "Successfully Saved ./TATASTEEL/TATASTEEL_29_2019-06-27\n",
      "Successfully Saved ./TATASTEEL/TATASTEEL_30_2019-07-25\n",
      "Successfully Saved ./TATASTEEL/TATASTEEL_31_2019-08-29\n",
      "Successfully Saved ./TATASTEEL/TATASTEEL_32_2019-09-26\n",
      "Successfully Saved ./TATASTEEL/TATASTEEL_33_2019-10-31\n",
      "Successfully Saved ./TATASTEEL/TATASTEEL_34_2019-11-28\n",
      "Successfully Saved ./TATASTEEL/TATASTEEL_35_2019-12-26\n",
      "Successfully Saved ./TATASTEEL/TATASTEEL_36_2020-01-30\n",
      "Successfully Saved ./TATASTEEL/TATASTEEL_37_2020-02-27\n",
      "Successfully Saved ./TATASTEEL/TATASTEEL_38_2020-03-26\n",
      "Successfully Saved ./TATASTEEL/TATASTEEL_39_2020-04-30\n",
      "Successfully Saved ./TATASTEEL/TATASTEEL_40_2020-05-28\n",
      "Successfully Saved ./TATASTEEL/TATASTEEL_41_2020-06-25\n",
      "Successfully Saved ./TATASTEEL/TATASTEEL_42_2020-07-30\n",
      "Successfully Saved ./TATASTEEL/TATASTEEL_43_2020-08-27\n",
      "Successfully Saved ./TATASTEEL/TATASTEEL_44_2020-09-24\n",
      "Successfully Saved ./TATASTEEL/TATASTEEL_45_2020-10-29\n",
      "Successfully Saved ./TATASTEEL/TATASTEEL_46_2020-11-26\n",
      "Successfully Saved ./TATASTEEL/TATASTEEL_47_2020-12-31\n",
      "Successfully Saved ./TATASTEEL/TATASTEEL_48_2021-01-28\n",
      "Successfully Saved ./TATASTEEL/TATASTEEL_49_2021-02-25\n",
      "Successfully Saved ./TATASTEEL/TATASTEEL_50_2021-03-25\n",
      "Successfully Saved ./TATASTEEL/TATASTEEL_51_2021-04-29\n",
      "Successfully Downloaded contracts ofTATASTEEL\n"
     ]
    },
    {
     "name": "stderr",
     "output_type": "stream",
     "text": [
      "100%|██████████████████████████████████████████████████████████████████████████████████████████████████████████████████████████████████████████████████████████████████████████████████████████████████████| 13/13 [02:49<00:00, 13.02s/it]\n"
     ]
    }
   ],
   "source": [
    "for symbol in tqdm.tqdm(stk_symbols):\n",
    "    for i, date in enumerate(dates):\n",
    "        if i == 0:\n",
    "            continue\n",
    "        try:\n",
    "            download_contract(symbol, i, exdate=date, pexdate=dates[i-1])\n",
    "        except:\n",
    "            print(\"Problem while processing\"+symbol+\"'s contract\"+ str(date)+\"value\")\n",
    "            continue\n",
    "\n",
    "    print(\"Successfully Downloaded contracts of\"+symbol)"
   ]
  },
  {
   "cell_type": "code",
   "execution_count": 9,
   "metadata": {},
   "outputs": [],
   "source": [
    "index = ['NIFTY', 'BANKNIFTY']"
   ]
  },
  {
   "cell_type": "code",
   "execution_count": 10,
   "metadata": {},
   "outputs": [
    {
     "name": "stderr",
     "output_type": "stream",
     "text": [
      "\r",
      "  0%|                                                                                                                                                                                                                | 0/2 [00:00<?, ?it/s]"
     ]
    },
    {
     "name": "stdout",
     "output_type": "stream",
     "text": [
      "Problem while processingNIFTY's contract25-01-2017value\n",
      "Successfully Saved ./NIFTY/NIFTY_1_2017-02-23\n",
      "Successfully Saved ./NIFTY/NIFTY_2_2017-03-30\n",
      "Successfully Saved ./NIFTY/NIFTY_3_2017-04-27\n",
      "Successfully Saved ./NIFTY/NIFTY_4_2017-05-25\n",
      "Successfully Saved ./NIFTY/NIFTY_5_2017-06-29\n",
      "Successfully Saved ./NIFTY/NIFTY_6_2017-07-27\n",
      "Successfully Saved ./NIFTY/NIFTY_7_2017-08-31\n",
      "Successfully Saved ./NIFTY/NIFTY_8_2017-09-28\n",
      "Successfully Saved ./NIFTY/NIFTY_9_2017-10-26\n",
      "Successfully Saved ./NIFTY/NIFTY_10_2017-11-30\n",
      "Successfully Saved ./NIFTY/NIFTY_11_2017-12-28\n",
      "Successfully Saved ./NIFTY/NIFTY_12_2018-01-25\n",
      "Successfully Saved ./NIFTY/NIFTY_13_2018-02-22\n",
      "Successfully Saved ./NIFTY/NIFTY_14_2018-03-28\n",
      "Successfully Saved ./NIFTY/NIFTY_15_2018-04-26\n",
      "Successfully Saved ./NIFTY/NIFTY_16_2018-05-31\n",
      "Successfully Saved ./NIFTY/NIFTY_17_2018-06-28\n",
      "Successfully Saved ./NIFTY/NIFTY_18_2018-07-26\n",
      "Successfully Saved ./NIFTY/NIFTY_19_2018-08-30\n",
      "Successfully Saved ./NIFTY/NIFTY_20_2018-09-27\n",
      "Successfully Saved ./NIFTY/NIFTY_21_2018-10-25\n",
      "Successfully Saved ./NIFTY/NIFTY_22_2018-11-29\n",
      "Successfully Saved ./NIFTY/NIFTY_23_2018-12-27\n",
      "Successfully Saved ./NIFTY/NIFTY_24_2019-01-31\n",
      "Successfully Saved ./NIFTY/NIFTY_25_2019-02-28\n",
      "Successfully Saved ./NIFTY/NIFTY_26_2019-03-28\n",
      "Successfully Saved ./NIFTY/NIFTY_27_2019-04-25\n",
      "Successfully Saved ./NIFTY/NIFTY_28_2019-05-30\n",
      "Successfully Saved ./NIFTY/NIFTY_29_2019-06-27\n",
      "Successfully Saved ./NIFTY/NIFTY_30_2019-07-25\n",
      "Successfully Saved ./NIFTY/NIFTY_31_2019-08-29\n",
      "Successfully Saved ./NIFTY/NIFTY_32_2019-09-26\n",
      "Successfully Saved ./NIFTY/NIFTY_33_2019-10-31\n",
      "Successfully Saved ./NIFTY/NIFTY_34_2019-11-28\n",
      "Successfully Saved ./NIFTY/NIFTY_35_2019-12-26\n",
      "Successfully Saved ./NIFTY/NIFTY_36_2020-01-30\n",
      "Successfully Saved ./NIFTY/NIFTY_37_2020-02-27\n",
      "Successfully Saved ./NIFTY/NIFTY_38_2020-03-26\n",
      "Successfully Saved ./NIFTY/NIFTY_39_2020-04-30\n",
      "Successfully Saved ./NIFTY/NIFTY_40_2020-05-28\n",
      "Successfully Saved ./NIFTY/NIFTY_41_2020-06-25\n",
      "Successfully Saved ./NIFTY/NIFTY_42_2020-07-30\n",
      "Successfully Saved ./NIFTY/NIFTY_43_2020-08-27\n",
      "Successfully Saved ./NIFTY/NIFTY_44_2020-09-24\n",
      "Successfully Saved ./NIFTY/NIFTY_45_2020-10-29\n",
      "Successfully Saved ./NIFTY/NIFTY_46_2020-11-26\n",
      "Successfully Saved ./NIFTY/NIFTY_47_2020-12-31\n",
      "Successfully Saved ./NIFTY/NIFTY_48_2021-01-28\n",
      "Successfully Saved ./NIFTY/NIFTY_49_2021-02-25\n",
      "Successfully Saved ./NIFTY/NIFTY_50_2021-03-25\n",
      "Successfully Saved ./NIFTY/NIFTY_51_2021-04-29\n",
      "Successfully Downloaded contracts ofNIFTY\n"
     ]
    },
    {
     "name": "stderr",
     "output_type": "stream",
     "text": [
      "\r",
      " 50%|████████████████████████████████████████████████████████████████████████████████████████████████████                                                                                                    | 1/2 [00:14<00:14, 14.06s/it]"
     ]
    },
    {
     "name": "stdout",
     "output_type": "stream",
     "text": [
      "Problem while processingBANKNIFTY's contract25-01-2017value\n",
      "Successfully Saved ./BANKNIFTY/BANKNIFTY_1_2017-02-23\n",
      "Successfully Saved ./BANKNIFTY/BANKNIFTY_2_2017-03-30\n",
      "Successfully Saved ./BANKNIFTY/BANKNIFTY_3_2017-04-27\n",
      "Successfully Saved ./BANKNIFTY/BANKNIFTY_4_2017-05-25\n",
      "Successfully Saved ./BANKNIFTY/BANKNIFTY_5_2017-06-29\n",
      "Successfully Saved ./BANKNIFTY/BANKNIFTY_6_2017-07-27\n",
      "Successfully Saved ./BANKNIFTY/BANKNIFTY_7_2017-08-31\n",
      "Successfully Saved ./BANKNIFTY/BANKNIFTY_8_2017-09-28\n",
      "Successfully Saved ./BANKNIFTY/BANKNIFTY_9_2017-10-26\n",
      "Successfully Saved ./BANKNIFTY/BANKNIFTY_10_2017-11-30\n",
      "Successfully Saved ./BANKNIFTY/BANKNIFTY_11_2017-12-28\n",
      "Successfully Saved ./BANKNIFTY/BANKNIFTY_12_2018-01-25\n",
      "Successfully Saved ./BANKNIFTY/BANKNIFTY_13_2018-02-22\n",
      "Successfully Saved ./BANKNIFTY/BANKNIFTY_14_2018-03-28\n",
      "Successfully Saved ./BANKNIFTY/BANKNIFTY_15_2018-04-26\n",
      "Successfully Saved ./BANKNIFTY/BANKNIFTY_16_2018-05-31\n",
      "Successfully Saved ./BANKNIFTY/BANKNIFTY_17_2018-06-28\n",
      "Successfully Saved ./BANKNIFTY/BANKNIFTY_18_2018-07-26\n",
      "Successfully Saved ./BANKNIFTY/BANKNIFTY_19_2018-08-30\n",
      "Successfully Saved ./BANKNIFTY/BANKNIFTY_20_2018-09-27\n",
      "Successfully Saved ./BANKNIFTY/BANKNIFTY_21_2018-10-25\n",
      "Successfully Saved ./BANKNIFTY/BANKNIFTY_22_2018-11-29\n",
      "Successfully Saved ./BANKNIFTY/BANKNIFTY_23_2018-12-27\n",
      "Successfully Saved ./BANKNIFTY/BANKNIFTY_24_2019-01-31\n",
      "Successfully Saved ./BANKNIFTY/BANKNIFTY_25_2019-02-28\n",
      "Successfully Saved ./BANKNIFTY/BANKNIFTY_26_2019-03-28\n",
      "Successfully Saved ./BANKNIFTY/BANKNIFTY_27_2019-04-25\n",
      "Successfully Saved ./BANKNIFTY/BANKNIFTY_28_2019-05-30\n",
      "Successfully Saved ./BANKNIFTY/BANKNIFTY_29_2019-06-27\n",
      "Successfully Saved ./BANKNIFTY/BANKNIFTY_30_2019-07-25\n",
      "Successfully Saved ./BANKNIFTY/BANKNIFTY_31_2019-08-29\n",
      "Successfully Saved ./BANKNIFTY/BANKNIFTY_32_2019-09-26\n",
      "Successfully Saved ./BANKNIFTY/BANKNIFTY_33_2019-10-31\n",
      "Successfully Saved ./BANKNIFTY/BANKNIFTY_34_2019-11-28\n",
      "Successfully Saved ./BANKNIFTY/BANKNIFTY_35_2019-12-26\n",
      "Successfully Saved ./BANKNIFTY/BANKNIFTY_36_2020-01-30\n",
      "Successfully Saved ./BANKNIFTY/BANKNIFTY_37_2020-02-27\n",
      "Successfully Saved ./BANKNIFTY/BANKNIFTY_38_2020-03-26\n",
      "Successfully Saved ./BANKNIFTY/BANKNIFTY_39_2020-04-30\n",
      "Successfully Saved ./BANKNIFTY/BANKNIFTY_40_2020-05-28\n",
      "Successfully Saved ./BANKNIFTY/BANKNIFTY_41_2020-06-25\n",
      "Successfully Saved ./BANKNIFTY/BANKNIFTY_42_2020-07-30\n",
      "Successfully Saved ./BANKNIFTY/BANKNIFTY_43_2020-08-27\n",
      "Successfully Saved ./BANKNIFTY/BANKNIFTY_44_2020-09-24\n",
      "Successfully Saved ./BANKNIFTY/BANKNIFTY_45_2020-10-29\n",
      "Successfully Saved ./BANKNIFTY/BANKNIFTY_46_2020-11-26\n",
      "Successfully Saved ./BANKNIFTY/BANKNIFTY_47_2020-12-31\n",
      "Successfully Saved ./BANKNIFTY/BANKNIFTY_48_2021-01-28\n",
      "Successfully Saved ./BANKNIFTY/BANKNIFTY_49_2021-02-25\n",
      "Successfully Saved ./BANKNIFTY/BANKNIFTY_50_2021-03-25\n",
      "Successfully Saved ./BANKNIFTY/BANKNIFTY_51_2021-04-29\n",
      "Successfully Downloaded contracts ofBANKNIFTY\n"
     ]
    },
    {
     "name": "stderr",
     "output_type": "stream",
     "text": [
      "100%|████████████████████████████████████████████████████████████████████████████████████████████████████████████████████████████████████████████████████████████████████████████████████████████████████████| 2/2 [00:28<00:00, 14.47s/it]\n"
     ]
    }
   ],
   "source": [
    "for symbol in tqdm.tqdm(index):\n",
    "    for i, date in enumerate(dates):\n",
    "        try:\n",
    "            download_contract(symbol, i, exdate=date, pexdate=dates[i-1], is_index= True)\n",
    "        except:\n",
    "            print(\"Problem while processing\"+symbol+\"'s contract\"+ str(date)+\"value\")\n",
    "            continue\n",
    "\n",
    "    print(\"Successfully Downloaded contracts of\"+symbol)"
   ]
  },
  {
   "cell_type": "markdown",
   "metadata": {},
   "source": [
    "# Download Daily updated files\n",
    "Execute below cells to download files to update the current month's contract"
   ]
  },
  {
   "cell_type": "code",
   "execution_count": 11,
   "metadata": {},
   "outputs": [],
   "source": [
    "dir_name = './NIFTY/'\n",
    "#os.chdir(dir_name) # change directory from working dir to dir with files\n",
    "\n",
    "for path, dir_list, file_list in os.walk(dir_name):\n",
    "    file_count = len(file_list)"
   ]
  },
  {
   "cell_type": "code",
   "execution_count": 12,
   "metadata": {},
   "outputs": [
    {
     "data": {
      "text/plain": [
       "51"
      ]
     },
     "execution_count": 12,
     "metadata": {},
     "output_type": "execute_result"
    }
   ],
   "source": [
    "file_count"
   ]
  },
  {
   "cell_type": "code",
   "execution_count": 126,
   "metadata": {},
   "outputs": [],
   "source": [
    "from nsepy.derivatives import get_expiry_date\n",
    "def get_exdates():\n",
    "    current_month = datetime.datetime.today().month\n",
    "    current_year = datetime.datetime.today().year\n",
    "    current_date = datetime.datetime.today().date()\n",
    "    \n",
    "    cex = list(get_expiry_date(year=current_year, month=current_month))\n",
    "    pex = list(get_expiry_date(year=current_year, month=current_month-1))\n",
    "    \n",
    "    cex.sort()\n",
    "    \n",
    "    if cex[-1] < current_date:\n",
    "        cex = list(get_expiry_date(year=current_year, month=current_month+1))\n",
    "        pex = list(get_expiry_date(year=current_year, month=current_month))\n",
    "        \n",
    "    pex.sort()\n",
    "    \n",
    "    return (cex[-1]), (pex[-1])"
   ]
  },
  {
   "cell_type": "code",
   "execution_count": 127,
   "metadata": {},
   "outputs": [
    {
     "data": {
      "text/plain": [
       "(datetime.date(2021, 4, 29), datetime.date(2021, 3, 25))"
      ]
     },
     "execution_count": 127,
     "metadata": {},
     "output_type": "execute_result"
    }
   ],
   "source": [
    "get_exdates()"
   ]
  },
  {
   "cell_type": "code",
   "execution_count": 128,
   "metadata": {},
   "outputs": [
    {
     "name": "stderr",
     "output_type": "stream",
     "text": [
      "\r",
      "  0%|                                                                                                                                                                                                               | 0/13 [00:00<?, ?it/s]"
     ]
    },
    {
     "name": "stdout",
     "output_type": "stream",
     "text": [
      "Successfully Saved ./INFY/INFY_51_2021-04-29\n",
      "Successfully Downloaded contracts ofINFY\n"
     ]
    },
    {
     "name": "stderr",
     "output_type": "stream",
     "text": [
      "\r",
      "  8%|███████████████▎                                                                                                                                                                                       | 1/13 [00:00<00:03,  3.41it/s]"
     ]
    },
    {
     "name": "stdout",
     "output_type": "stream",
     "text": [
      "Successfully Saved ./RELIANCE/RELIANCE_51_2021-04-29\n",
      "Successfully Downloaded contracts ofRELIANCE\n"
     ]
    },
    {
     "name": "stderr",
     "output_type": "stream",
     "text": [
      "\r",
      " 15%|██████████████████████████████▌                                                                                                                                                                        | 2/13 [00:00<00:03,  2.86it/s]"
     ]
    },
    {
     "name": "stdout",
     "output_type": "stream",
     "text": [
      "Successfully Saved ./HINDUNILVR/HINDUNILVR_51_2021-04-29\n",
      "Successfully Downloaded contracts ofHINDUNILVR\n"
     ]
    },
    {
     "name": "stderr",
     "output_type": "stream",
     "text": [
      "\r",
      " 23%|█████████████████████████████████████████████▉                                                                                                                                                         | 3/13 [00:01<00:03,  3.13it/s]"
     ]
    },
    {
     "name": "stdout",
     "output_type": "stream",
     "text": [
      "Successfully Saved ./TCS/TCS_51_2021-04-29\n",
      "Successfully Downloaded contracts ofTCS\n"
     ]
    },
    {
     "name": "stderr",
     "output_type": "stream",
     "text": [
      "\r",
      " 31%|█████████████████████████████████████████████████████████████▏                                                                                                                                         | 4/13 [00:01<00:02,  3.14it/s]"
     ]
    },
    {
     "name": "stdout",
     "output_type": "stream",
     "text": [
      "Successfully Saved ./KOTAKBANK/KOTAKBANK_51_2021-04-29\n",
      "Successfully Downloaded contracts ofKOTAKBANK\n"
     ]
    },
    {
     "name": "stderr",
     "output_type": "stream",
     "text": [
      "\r",
      " 38%|████████████████████████████████████████████████████████████████████████████▌                                                                                                                          | 5/13 [00:01<00:02,  3.59it/s]"
     ]
    },
    {
     "name": "stdout",
     "output_type": "stream",
     "text": [
      "Successfully Saved ./BAJAJFINSV/BAJAJFINSV_51_2021-04-29\n",
      "Successfully Downloaded contracts ofBAJAJFINSV\n"
     ]
    },
    {
     "name": "stderr",
     "output_type": "stream",
     "text": [
      "\r",
      " 46%|███████████████████████████████████████████████████████████████████████████████████████████▊                                                                                                           | 6/13 [00:01<00:01,  3.91it/s]"
     ]
    },
    {
     "name": "stdout",
     "output_type": "stream",
     "text": [
      "Successfully Saved ./BAJFINANCE/BAJFINANCE_51_2021-04-29\n",
      "Successfully Downloaded contracts ofBAJFINANCE\n"
     ]
    },
    {
     "name": "stderr",
     "output_type": "stream",
     "text": [
      "\r",
      " 54%|███████████████████████████████████████████████████████████████████████████████████████████████████████████▏                                                                                           | 7/13 [00:01<00:01,  3.86it/s]"
     ]
    },
    {
     "name": "stdout",
     "output_type": "stream",
     "text": [
      "Successfully Saved ./LT/LT_51_2021-04-29\n",
      "Successfully Downloaded contracts ofLT\n"
     ]
    },
    {
     "name": "stderr",
     "output_type": "stream",
     "text": [
      "\r",
      " 62%|██████████████████████████████████████████████████████████████████████████████████████████████████████████████████████████▍                                                                            | 8/13 [00:02<00:01,  3.94it/s]"
     ]
    },
    {
     "name": "stdout",
     "output_type": "stream",
     "text": [
      "Successfully Saved ./HDFCBANK/HDFCBANK_51_2021-04-29\n",
      "Successfully Downloaded contracts ofHDFCBANK\n"
     ]
    },
    {
     "name": "stderr",
     "output_type": "stream",
     "text": [
      "\r",
      " 69%|█████████████████████████████████████████████████████████████████████████████████████████████████████████████████████████████████████████▊                                                             | 9/13 [00:03<00:01,  2.30it/s]"
     ]
    },
    {
     "name": "stdout",
     "output_type": "stream",
     "text": [
      "Successfully Saved ./HDFC/HDFC_51_2021-04-29\n",
      "Successfully Downloaded contracts ofHDFC\n"
     ]
    },
    {
     "name": "stderr",
     "output_type": "stream",
     "text": [
      "\r",
      " 77%|████████████████████████████████████████████████████████████████████████████████████████████████████████████████████████████████████████████████████████▎                                             | 10/13 [00:03<00:01,  2.63it/s]"
     ]
    },
    {
     "name": "stdout",
     "output_type": "stream",
     "text": [
      "Successfully Saved ./TATAPOWER/TATAPOWER_51_2021-04-29\n",
      "Successfully Downloaded contracts ofTATAPOWER\n"
     ]
    },
    {
     "name": "stderr",
     "output_type": "stream",
     "text": [
      "\r",
      " 85%|███████████████████████████████████████████████████████████████████████████████████████████████████████████████████████████████████████████████████████████████████████▌                              | 11/13 [00:03<00:00,  3.17it/s]"
     ]
    },
    {
     "name": "stdout",
     "output_type": "stream",
     "text": [
      "Successfully Saved ./INDUSINDBK/INDUSINDBK_51_2021-04-29\n",
      "Successfully Downloaded contracts ofINDUSINDBK\n"
     ]
    },
    {
     "name": "stderr",
     "output_type": "stream",
     "text": [
      "\r",
      " 92%|██████████████████████████████████████████████████████████████████████████████████████████████████████████████████████████████████████████████████████████████████████████████████████▊               | 12/13 [00:03<00:00,  3.43it/s]"
     ]
    },
    {
     "name": "stdout",
     "output_type": "stream",
     "text": [
      "Successfully Saved ./TATASTEEL/TATASTEEL_51_2021-04-29\n",
      "Successfully Downloaded contracts ofTATASTEEL\n"
     ]
    },
    {
     "name": "stderr",
     "output_type": "stream",
     "text": [
      "100%|██████████████████████████████████████████████████████████████████████████████████████████████████████████████████████████████████████████████████████████████████████████████████████████████████████| 13/13 [00:04<00:00,  3.20it/s]\n"
     ]
    }
   ],
   "source": [
    "stk_symbols = ['INFY', 'RELIANCE', 'HINDUNILVR', 'TCS', 'KOTAKBANK', 'BAJAJFINSV',\\\n",
    "              'BAJFINANCE', 'LT', 'HDFCBANK', 'HDFC', 'TATAPOWER', 'INDUSINDBK', \\\n",
    "              'TATASTEEL']\n",
    "for symbol in tqdm.tqdm(stk_symbols):\n",
    "    try:\n",
    "        download_contract(symbol, file_count+1, exdate=get_exdates()[0], pexdate=get_exdates()[1])\n",
    "    except:\n",
    "        print(\"Problem while processing \"+symbol+\"'s contract \"+ str(date)+\" value\")\n",
    "        continue\n",
    "    print(\"Successfully Downloaded contracts of\"+symbol)"
   ]
  },
  {
   "cell_type": "code",
   "execution_count": 19,
   "metadata": {
    "scrolled": false
   },
   "outputs": [
    {
     "name": "stderr",
     "output_type": "stream",
     "text": [
      "\r",
      "  0%|                                                                                                                                                                                                                | 0/2 [00:00<?, ?it/s]"
     ]
    },
    {
     "name": "stdout",
     "output_type": "stream",
     "text": [
      "Successfully Saved ./NIFTY/NIFTY_51_2021-04-29\n",
      "Successfully Downloaded contracts ofNIFTY\n",
      "Successfully Saved ./BANKNIFTY/BANKNIFTY_51_2021-04-29\n",
      "Successfully Downloaded contracts ofBANKNIFTY\n"
     ]
    },
    {
     "name": "stderr",
     "output_type": "stream",
     "text": [
      "100%|████████████████████████████████████████████████████████████████████████████████████████████████████████████████████████████████████████████████████████████████████████████████████████████████████████| 2/2 [00:00<00:00, 12.69it/s]\n"
     ]
    }
   ],
   "source": [
    "index = ['NIFTY', 'BANKNIFTY']\n",
    "for symbol in tqdm.tqdm(index):\n",
    "    try:\n",
    "        download_contract(symbol, file_count+1 , exdate=get_exdates()[0], pexdate=get_exdates()[1], is_index= True)\n",
    "    except:\n",
    "        print(\"Problem while processing \"+symbol+\"'s contract \"+ str(get_exdates()[0])+\" value\")\n",
    "        continue\n",
    "    print(\"Successfully Downloaded contracts of\"+symbol)"
   ]
  },
  {
   "cell_type": "code",
   "execution_count": null,
   "metadata": {},
   "outputs": [],
   "source": []
  },
  {
   "cell_type": "markdown",
   "metadata": {},
   "source": [
    "### Perform Analysis on files"
   ]
  },
  {
   "cell_type": "code",
   "execution_count": 14,
   "metadata": {},
   "outputs": [],
   "source": [
    "import pandas as pd\n",
    "import natsort "
   ]
  },
  {
   "cell_type": "markdown",
   "metadata": {},
   "source": [
    "### Make sure you have no contract files open"
   ]
  },
  {
   "cell_type": "code",
   "execution_count": 25,
   "metadata": {},
   "outputs": [
    {
     "name": "stdout",
     "output_type": "stream",
     "text": [
      "Successfully Created INFY.csv\n",
      "Successfully Created RELIANCE.csv\n",
      "Successfully Created HINDUNILVR.csv\n",
      "Successfully Created TCS.csv\n",
      "Successfully Created KOTAKBANK.csv\n",
      "Successfully Created BAJAJFINSV.csv\n",
      "Successfully Created BAJFINANCE.csv\n",
      "Successfully Created LT.csv\n",
      "Successfully Created HDFCBANK.csv\n",
      "Successfully Created HDFC.csv\n",
      "Successfully Created TATAPOWER.csv\n",
      "Successfully Created INDUSINDBK.csv\n",
      "Successfully Created TATASTEEL.csv\n",
      "Successfully Created NIFTY.csv\n",
      "Successfully Created BANKNIFTY.csv\n"
     ]
    }
   ],
   "source": [
    "for i in stk_symbols+index:\n",
    "    file_list = os.listdir(\"./\"+i)\n",
    "    file_list = natsort.natsorted(file_list,reverse=False)\n",
    "    \n",
    "    files = pd.DataFrame()\n",
    "\n",
    "    for file_idx in range(len(file_list)):\n",
    "        filename = \"./\"+i+\"//\"+file_list[file_idx]\n",
    "        #print(filename)\n",
    "        df = pd.read_csv(filename)\n",
    "        files = pd.concat([files, df], axis = 0).reset_index().drop(['index'], axis=1)\n",
    "    files.to_csv(i+\".csv\",  index = False)\n",
    "    print(\"Successfully Created \"+i+\".csv\" )\n"
   ]
  },
  {
   "cell_type": "code",
   "execution_count": 26,
   "metadata": {},
   "outputs": [
    {
     "data": {
      "text/html": [
       "<div>\n",
       "<style scoped>\n",
       "    .dataframe tbody tr th:only-of-type {\n",
       "        vertical-align: middle;\n",
       "    }\n",
       "\n",
       "    .dataframe tbody tr th {\n",
       "        vertical-align: top;\n",
       "    }\n",
       "\n",
       "    .dataframe thead th {\n",
       "        text-align: right;\n",
       "    }\n",
       "</style>\n",
       "<table border=\"1\" class=\"dataframe\">\n",
       "  <thead>\n",
       "    <tr style=\"text-align: right;\">\n",
       "      <th></th>\n",
       "      <th>Date</th>\n",
       "      <th>Symbol</th>\n",
       "      <th>Expiry</th>\n",
       "      <th>Open</th>\n",
       "      <th>High</th>\n",
       "      <th>Low</th>\n",
       "      <th>Close</th>\n",
       "      <th>Last</th>\n",
       "      <th>Settle Price</th>\n",
       "      <th>Number of Contracts</th>\n",
       "      <th>Turnover</th>\n",
       "      <th>Open Interest</th>\n",
       "      <th>Change in OI</th>\n",
       "      <th>Underlying</th>\n",
       "    </tr>\n",
       "  </thead>\n",
       "  <tbody>\n",
       "    <tr>\n",
       "      <th>0</th>\n",
       "      <td>2017-01-25</td>\n",
       "      <td>RELIANCE</td>\n",
       "      <td>2017-02-23</td>\n",
       "      <td>1030.55</td>\n",
       "      <td>1037.05</td>\n",
       "      <td>1023.10</td>\n",
       "      <td>1024.15</td>\n",
       "      <td>1024.55</td>\n",
       "      <td>1024.15</td>\n",
       "      <td>20078</td>\n",
       "      <td>1.031763e+10</td>\n",
       "      <td>20953500</td>\n",
       "      <td>5194500</td>\n",
       "      <td>1017.30</td>\n",
       "    </tr>\n",
       "    <tr>\n",
       "      <th>1</th>\n",
       "      <td>2017-01-27</td>\n",
       "      <td>RELIANCE</td>\n",
       "      <td>2017-02-23</td>\n",
       "      <td>1025.75</td>\n",
       "      <td>1035.60</td>\n",
       "      <td>1025.15</td>\n",
       "      <td>1030.25</td>\n",
       "      <td>1032.00</td>\n",
       "      <td>1030.25</td>\n",
       "      <td>14541</td>\n",
       "      <td>7.494435e+09</td>\n",
       "      <td>22292500</td>\n",
       "      <td>1339000</td>\n",
       "      <td>1025.10</td>\n",
       "    </tr>\n",
       "    <tr>\n",
       "      <th>2</th>\n",
       "      <td>2017-01-30</td>\n",
       "      <td>RELIANCE</td>\n",
       "      <td>2017-02-23</td>\n",
       "      <td>1033.00</td>\n",
       "      <td>1048.95</td>\n",
       "      <td>1030.00</td>\n",
       "      <td>1047.35</td>\n",
       "      <td>1047.00</td>\n",
       "      <td>1047.35</td>\n",
       "      <td>13866</td>\n",
       "      <td>7.214210e+09</td>\n",
       "      <td>21378000</td>\n",
       "      <td>-914500</td>\n",
       "      <td>1044.80</td>\n",
       "    </tr>\n",
       "    <tr>\n",
       "      <th>3</th>\n",
       "      <td>2017-01-31</td>\n",
       "      <td>RELIANCE</td>\n",
       "      <td>2017-02-23</td>\n",
       "      <td>1048.10</td>\n",
       "      <td>1055.95</td>\n",
       "      <td>1042.55</td>\n",
       "      <td>1046.80</td>\n",
       "      <td>1046.55</td>\n",
       "      <td>1046.80</td>\n",
       "      <td>11671</td>\n",
       "      <td>6.120944e+09</td>\n",
       "      <td>20682500</td>\n",
       "      <td>-695500</td>\n",
       "      <td>1045.20</td>\n",
       "    </tr>\n",
       "    <tr>\n",
       "      <th>4</th>\n",
       "      <td>2017-02-01</td>\n",
       "      <td>RELIANCE</td>\n",
       "      <td>2017-02-23</td>\n",
       "      <td>1048.80</td>\n",
       "      <td>1053.95</td>\n",
       "      <td>1038.35</td>\n",
       "      <td>1052.20</td>\n",
       "      <td>1052.45</td>\n",
       "      <td>1052.20</td>\n",
       "      <td>10553</td>\n",
       "      <td>5.526727e+09</td>\n",
       "      <td>20415000</td>\n",
       "      <td>-267500</td>\n",
       "      <td>1049.65</td>\n",
       "    </tr>\n",
       "    <tr>\n",
       "      <th>...</th>\n",
       "      <td>...</td>\n",
       "      <td>...</td>\n",
       "      <td>...</td>\n",
       "      <td>...</td>\n",
       "      <td>...</td>\n",
       "      <td>...</td>\n",
       "      <td>...</td>\n",
       "      <td>...</td>\n",
       "      <td>...</td>\n",
       "      <td>...</td>\n",
       "      <td>...</td>\n",
       "      <td>...</td>\n",
       "      <td>...</td>\n",
       "      <td>...</td>\n",
       "    </tr>\n",
       "    <tr>\n",
       "      <th>1093</th>\n",
       "      <td>2021-04-15</td>\n",
       "      <td>RELIANCE</td>\n",
       "      <td>2021-04-29</td>\n",
       "      <td>1939.35</td>\n",
       "      <td>1969.90</td>\n",
       "      <td>1920.55</td>\n",
       "      <td>1949.20</td>\n",
       "      <td>1947.10</td>\n",
       "      <td>1949.20</td>\n",
       "      <td>30355</td>\n",
       "      <td>1.473797e+10</td>\n",
       "      <td>29093000</td>\n",
       "      <td>156750</td>\n",
       "      <td>NaN</td>\n",
       "    </tr>\n",
       "    <tr>\n",
       "      <th>1094</th>\n",
       "      <td>2021-04-16</td>\n",
       "      <td>RELIANCE</td>\n",
       "      <td>2021-04-29</td>\n",
       "      <td>1945.40</td>\n",
       "      <td>1958.35</td>\n",
       "      <td>1934.05</td>\n",
       "      <td>1939.15</td>\n",
       "      <td>1935.20</td>\n",
       "      <td>1939.15</td>\n",
       "      <td>26665</td>\n",
       "      <td>1.295494e+10</td>\n",
       "      <td>29109750</td>\n",
       "      <td>16750</td>\n",
       "      <td>NaN</td>\n",
       "    </tr>\n",
       "    <tr>\n",
       "      <th>1095</th>\n",
       "      <td>2021-04-19</td>\n",
       "      <td>RELIANCE</td>\n",
       "      <td>2021-04-29</td>\n",
       "      <td>1911.00</td>\n",
       "      <td>1920.00</td>\n",
       "      <td>1892.30</td>\n",
       "      <td>1906.00</td>\n",
       "      <td>1906.00</td>\n",
       "      <td>1906.00</td>\n",
       "      <td>28120</td>\n",
       "      <td>1.339552e+10</td>\n",
       "      <td>28758250</td>\n",
       "      <td>-351500</td>\n",
       "      <td>NaN</td>\n",
       "    </tr>\n",
       "    <tr>\n",
       "      <th>1096</th>\n",
       "      <td>2021-04-20</td>\n",
       "      <td>RELIANCE</td>\n",
       "      <td>2021-04-29</td>\n",
       "      <td>1917.30</td>\n",
       "      <td>1925.00</td>\n",
       "      <td>1892.45</td>\n",
       "      <td>1903.00</td>\n",
       "      <td>1905.95</td>\n",
       "      <td>1903.00</td>\n",
       "      <td>22440</td>\n",
       "      <td>1.071569e+10</td>\n",
       "      <td>28072750</td>\n",
       "      <td>-685500</td>\n",
       "      <td>1901.15</td>\n",
       "    </tr>\n",
       "    <tr>\n",
       "      <th>1097</th>\n",
       "      <td>2021-04-22</td>\n",
       "      <td>RELIANCE</td>\n",
       "      <td>2021-04-29</td>\n",
       "      <td>1896.65</td>\n",
       "      <td>1916.75</td>\n",
       "      <td>1882.70</td>\n",
       "      <td>1906.85</td>\n",
       "      <td>1905.70</td>\n",
       "      <td>1906.85</td>\n",
       "      <td>26323</td>\n",
       "      <td>1.251887e+10</td>\n",
       "      <td>27290500</td>\n",
       "      <td>-782250</td>\n",
       "      <td>1906.40</td>\n",
       "    </tr>\n",
       "  </tbody>\n",
       "</table>\n",
       "<p>1098 rows × 14 columns</p>\n",
       "</div>"
      ],
      "text/plain": [
       "            Date    Symbol      Expiry     Open     High      Low    Close  \\\n",
       "0     2017-01-25  RELIANCE  2017-02-23  1030.55  1037.05  1023.10  1024.15   \n",
       "1     2017-01-27  RELIANCE  2017-02-23  1025.75  1035.60  1025.15  1030.25   \n",
       "2     2017-01-30  RELIANCE  2017-02-23  1033.00  1048.95  1030.00  1047.35   \n",
       "3     2017-01-31  RELIANCE  2017-02-23  1048.10  1055.95  1042.55  1046.80   \n",
       "4     2017-02-01  RELIANCE  2017-02-23  1048.80  1053.95  1038.35  1052.20   \n",
       "...          ...       ...         ...      ...      ...      ...      ...   \n",
       "1093  2021-04-15  RELIANCE  2021-04-29  1939.35  1969.90  1920.55  1949.20   \n",
       "1094  2021-04-16  RELIANCE  2021-04-29  1945.40  1958.35  1934.05  1939.15   \n",
       "1095  2021-04-19  RELIANCE  2021-04-29  1911.00  1920.00  1892.30  1906.00   \n",
       "1096  2021-04-20  RELIANCE  2021-04-29  1917.30  1925.00  1892.45  1903.00   \n",
       "1097  2021-04-22  RELIANCE  2021-04-29  1896.65  1916.75  1882.70  1906.85   \n",
       "\n",
       "         Last  Settle Price  Number of Contracts      Turnover  Open Interest  \\\n",
       "0     1024.55       1024.15                20078  1.031763e+10       20953500   \n",
       "1     1032.00       1030.25                14541  7.494435e+09       22292500   \n",
       "2     1047.00       1047.35                13866  7.214210e+09       21378000   \n",
       "3     1046.55       1046.80                11671  6.120944e+09       20682500   \n",
       "4     1052.45       1052.20                10553  5.526727e+09       20415000   \n",
       "...       ...           ...                  ...           ...            ...   \n",
       "1093  1947.10       1949.20                30355  1.473797e+10       29093000   \n",
       "1094  1935.20       1939.15                26665  1.295494e+10       29109750   \n",
       "1095  1906.00       1906.00                28120  1.339552e+10       28758250   \n",
       "1096  1905.95       1903.00                22440  1.071569e+10       28072750   \n",
       "1097  1905.70       1906.85                26323  1.251887e+10       27290500   \n",
       "\n",
       "      Change in OI  Underlying  \n",
       "0          5194500     1017.30  \n",
       "1          1339000     1025.10  \n",
       "2          -914500     1044.80  \n",
       "3          -695500     1045.20  \n",
       "4          -267500     1049.65  \n",
       "...            ...         ...  \n",
       "1093        156750         NaN  \n",
       "1094         16750         NaN  \n",
       "1095       -351500         NaN  \n",
       "1096       -685500     1901.15  \n",
       "1097       -782250     1906.40  \n",
       "\n",
       "[1098 rows x 14 columns]"
      ]
     },
     "execution_count": 26,
     "metadata": {},
     "output_type": "execute_result"
    }
   ],
   "source": [
    "df = pd.read_csv('RELIANCE.csv')\n",
    "df"
   ]
  },
  {
   "cell_type": "code",
   "execution_count": null,
   "metadata": {},
   "outputs": [],
   "source": []
  }
 ],
 "metadata": {
  "kernelspec": {
   "display_name": "Python 3",
   "language": "python",
   "name": "python3"
  },
  "language_info": {
   "codemirror_mode": {
    "name": "ipython",
    "version": 3
   },
   "file_extension": ".py",
   "mimetype": "text/x-python",
   "name": "python",
   "nbconvert_exporter": "python",
   "pygments_lexer": "ipython3",
   "version": "3.7.4"
  }
 },
 "nbformat": 4,
 "nbformat_minor": 2
}

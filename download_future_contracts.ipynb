{
 "cells": [
  {
   "cell_type": "markdown",
   "metadata": {},
   "source": [
    "## Download Future Contract data\n",
    "\n",
    "Make sure to download this file only once after market closing. No need to run the cells more than once otherwise multiple files may get created."
   ]
  },
  {
   "cell_type": "code",
   "execution_count": 1,
   "metadata": {},
   "outputs": [],
   "source": [
    "from datetime import date\n",
    "from nsepy import get_history\n",
    "import pandas as pd\n",
    "import os\n",
    "import datetime\n",
    "import tqdm"
   ]
  },
  {
   "cell_type": "raw",
   "metadata": {},
   "source": [
    "exdates = pd.read_csv('expiry_dates.csv', header=None)\n",
    "dates = []\n",
    "for i in range(len(exdates)):\n",
    "    #print(exdates.iloc[i][0])\n",
    "    d = exdates.iloc[i][0]\n",
    "    dates.append(d)"
   ]
  },
  {
   "cell_type": "code",
   "execution_count": 13,
   "metadata": {},
   "outputs": [],
   "source": [
    "def download_contract(symbol, n, exdate, pexdate,  is_index = False):\n",
    "    #exdate = datetime.datetime.strptime(ex_date, '%d-%m-%Y').date()\n",
    "    #pexdate = datetime.datetime.strptime(pex_date, '%d-%m-%Y').date()\n",
    "    #print(exdate)\n",
    "    df = get_history(symbol=symbol,\n",
    "                        start=pexdate,\n",
    "                        end=exdate,\n",
    "                        index=  is_index,\n",
    "                        futures=True,\n",
    "                        expiry_date= exdate)\n",
    "    #print(df)\n",
    "    if not os.path.exists(symbol):\n",
    "        os.makedirs(symbol)\n",
    "    df.to_csv('./'+symbol+'/'+symbol+'_'+str(n)+'_'+str(exdate))\n",
    "    print(\"Successfully Saved \"+'./'+symbol+'/'+symbol+'_'+str(n)+'_'+str(exdate))"
   ]
  },
  {
   "cell_type": "code",
   "execution_count": 18,
   "metadata": {},
   "outputs": [],
   "source": [
    "dir_name = 'I://Finance//Nifty_Fut_contract/NIFTY/'\n",
    "#os.chdir(dir_name) # change directory from working dir to dir with files\n",
    "\n",
    "for path, dir_list, file_list in os.walk(dir_name):\n",
    "    file_count = len(file_list)"
   ]
  },
  {
   "cell_type": "raw",
   "metadata": {},
   "source": [
    "stk_symbols = ['INFY', 'RIL', 'HINDUNILVR', 'TCS', 'KOTAKBANK', 'BAJAJFINSV',\\\n",
    "              'BAJFINANCE', 'LT', 'HDFCBANK', 'HDFC', 'TATAPOWER', 'INDUSINDBK', \\\n",
    "              'TATASTEEL']"
   ]
  },
  {
   "cell_type": "raw",
   "metadata": {},
   "source": [
    "for symbol in tqdm.tqdm(stk_symbols):\n",
    "    for i, date in enumerate(dates):\n",
    "        if i == 0:\n",
    "            continue\n",
    "        try:\n",
    "            download_contract(symbol, i, ex_date=date, pex_date=dates[i-1])\n",
    "        except:\n",
    "            print(\"Problem while processing\"+symbol+\"'s contract\"+ str(date)+\"value\")\n",
    "            continue\n",
    "\n",
    "    print(\"Successfully Downloaded contracts of\"+symbol)"
   ]
  },
  {
   "cell_type": "raw",
   "metadata": {},
   "source": [
    "index = ['NIFTY', 'BANKNIFTY']"
   ]
  },
  {
   "cell_type": "raw",
   "metadata": {},
   "source": [
    "for symbol in tqdm.tqdm(index):\n",
    "    for i, date in enumerate(dates):\n",
    "        try:\n",
    "            download_contract(symbol, i, ex_date=date, pex_date=dates[i-1], is_index= True)\n",
    "        except:\n",
    "            print(\"Problem while processing\"+symbol+\"'s contract\"+ str(date)+\"value\")\n",
    "            continue\n",
    "\n",
    "    print(\"Successfully Downloaded contracts of\"+symbol)"
   ]
  },
  {
   "cell_type": "code",
   "execution_count": 3,
   "metadata": {},
   "outputs": [],
   "source": [
    "from nsepy.derivatives import get_expiry_date\n",
    "def get_exdates():\n",
    "    current_month = datetime.datetime.today().month\n",
    "    current_year = datetime.datetime.today().year\n",
    "    current_date = datetime.datetime.today().date()\n",
    "    \n",
    "    cex = list(get_expiry_date(year=current_year, month=current_month))\n",
    "    pex = list(get_expiry_date(year=current_year, month=current_month-1))\n",
    "    \n",
    "    cex.sort()\n",
    "    \n",
    "    if cex[-1] < current_date:\n",
    "        cex = list(get_expiry_date(year=current_year, month=current_month+1))\n",
    "        pex = list(get_expiry_date(year=current_year, month=current_month))\n",
    "        \n",
    "    pex.sort()\n",
    "    \n",
    "    return (cex[-1]), (pex[-1])"
   ]
  },
  {
   "cell_type": "code",
   "execution_count": 6,
   "metadata": {},
   "outputs": [
    {
     "data": {
      "text/plain": [
       "(datetime.date(2021, 4, 29), datetime.date(2021, 3, 25))"
      ]
     },
     "execution_count": 6,
     "metadata": {},
     "output_type": "execute_result"
    }
   ],
   "source": [
    "get_exdates()"
   ]
  },
  {
   "cell_type": "code",
   "execution_count": 7,
   "metadata": {},
   "outputs": [
    {
     "name": "stderr",
     "output_type": "stream",
     "text": [
      "\r",
      "  0%|                                                                                                                                                                                                               | 0/13 [00:00<?, ?it/s]"
     ]
    },
    {
     "name": "stdout",
     "output_type": "stream",
     "text": [
      "Successfully Saved ./INFY/INFY_51_2021-04-29\n",
      "Successfully Downloaded contracts ofINFY\n"
     ]
    },
    {
     "name": "stderr",
     "output_type": "stream",
     "text": [
      "\r",
      "  8%|███████████████▎                                                                                                                                                                                       | 1/13 [00:00<00:01,  8.36it/s]"
     ]
    },
    {
     "name": "stdout",
     "output_type": "stream",
     "text": [
      "Successfully Saved ./RIL/RIL_51_2021-04-29\n",
      "Successfully Downloaded contracts ofRIL\n"
     ]
    },
    {
     "name": "stderr",
     "output_type": "stream",
     "text": [
      "\r",
      " 15%|██████████████████████████████▌                                                                                                                                                                        | 2/13 [00:00<00:01,  7.79it/s]"
     ]
    },
    {
     "name": "stdout",
     "output_type": "stream",
     "text": [
      "Successfully Saved ./HINDUNILVR/HINDUNILVR_51_2021-04-29\n",
      "Successfully Downloaded contracts ofHINDUNILVR\n",
      "Successfully Saved ./TCS/TCS_51_2021-04-29\n",
      "Successfully Downloaded contracts ofTCS\n"
     ]
    },
    {
     "name": "stderr",
     "output_type": "stream",
     "text": [
      "\r",
      " 31%|█████████████████████████████████████████████████████████████▏                                                                                                                                         | 4/13 [00:00<00:00,  9.03it/s]"
     ]
    },
    {
     "name": "stdout",
     "output_type": "stream",
     "text": [
      "Successfully Saved ./KOTAKBANK/KOTAKBANK_51_2021-04-29\n",
      "Successfully Downloaded contracts ofKOTAKBANK\n"
     ]
    },
    {
     "name": "stderr",
     "output_type": "stream",
     "text": [
      "\r",
      " 38%|████████████████████████████████████████████████████████████████████████████▌                                                                                                                          | 5/13 [00:00<00:01,  7.66it/s]"
     ]
    },
    {
     "name": "stdout",
     "output_type": "stream",
     "text": [
      "Successfully Saved ./BAJAJFINSV/BAJAJFINSV_51_2021-04-29\n",
      "Successfully Downloaded contracts ofBAJAJFINSV\n"
     ]
    },
    {
     "name": "stderr",
     "output_type": "stream",
     "text": [
      "\r",
      " 46%|███████████████████████████████████████████████████████████████████████████████████████████▊                                                                                                           | 6/13 [00:00<00:00,  8.11it/s]"
     ]
    },
    {
     "name": "stdout",
     "output_type": "stream",
     "text": [
      "Successfully Saved ./BAJFINANCE/BAJFINANCE_51_2021-04-29\n",
      "Successfully Downloaded contracts ofBAJFINANCE\n"
     ]
    },
    {
     "name": "stderr",
     "output_type": "stream",
     "text": [
      "\r",
      " 54%|███████████████████████████████████████████████████████████████████████████████████████████████████████████▏                                                                                           | 7/13 [00:00<00:00,  8.20it/s]"
     ]
    },
    {
     "name": "stdout",
     "output_type": "stream",
     "text": [
      "Successfully Saved ./LT/LT_51_2021-04-29\n",
      "Successfully Downloaded contracts ofLT\n"
     ]
    },
    {
     "name": "stderr",
     "output_type": "stream",
     "text": [
      "\r",
      " 62%|██████████████████████████████████████████████████████████████████████████████████████████████████████████████████████████▍                                                                            | 8/13 [00:00<00:00,  8.01it/s]"
     ]
    },
    {
     "name": "stdout",
     "output_type": "stream",
     "text": [
      "Successfully Saved ./HDFCBANK/HDFCBANK_51_2021-04-29\n",
      "Successfully Downloaded contracts ofHDFCBANK\n"
     ]
    },
    {
     "name": "stderr",
     "output_type": "stream",
     "text": [
      "\r",
      " 69%|█████████████████████████████████████████████████████████████████████████████████████████████████████████████████████████████████████████▊                                                             | 9/13 [00:01<00:00,  8.03it/s]"
     ]
    },
    {
     "name": "stdout",
     "output_type": "stream",
     "text": [
      "Successfully Saved ./HDFC/HDFC_51_2021-04-29\n",
      "Successfully Downloaded contracts ofHDFC\n"
     ]
    },
    {
     "name": "stderr",
     "output_type": "stream",
     "text": [
      "\r",
      " 77%|████████████████████████████████████████████████████████████████████████████████████████████████████████████████████████████████████████████████████████▎                                             | 10/13 [00:01<00:00,  8.03it/s]"
     ]
    },
    {
     "name": "stdout",
     "output_type": "stream",
     "text": [
      "Successfully Saved ./TATAPOWER/TATAPOWER_51_2021-04-29\n",
      "Successfully Downloaded contracts ofTATAPOWER\n",
      "Successfully Saved ./INDUSINDBK/INDUSINDBK_51_2021-04-29\n",
      "Successfully Downloaded contracts ofINDUSINDBK\n"
     ]
    },
    {
     "name": "stderr",
     "output_type": "stream",
     "text": [
      "\r",
      " 92%|██████████████████████████████████████████████████████████████████████████████████████████████████████████████████████████████████████████████████████████████████████████████████████▊               | 12/13 [00:01<00:00,  8.97it/s]"
     ]
    },
    {
     "name": "stdout",
     "output_type": "stream",
     "text": [
      "Successfully Saved ./TATASTEEL/TATASTEEL_51_2021-04-29\n",
      "Successfully Downloaded contracts ofTATASTEEL\n"
     ]
    },
    {
     "name": "stderr",
     "output_type": "stream",
     "text": [
      "100%|██████████████████████████████████████████████████████████████████████████████████████████████████████████████████████████████████████████████████████████████████████████████████████████████████████| 13/13 [00:01<00:00,  9.09it/s]\n"
     ]
    }
   ],
   "source": [
    "stk_symbols = ['INFY', 'RIL', 'HINDUNILVR', 'TCS', 'KOTAKBANK', 'BAJAJFINSV',\\\n",
    "              'BAJFINANCE', 'LT', 'HDFCBANK', 'HDFC', 'TATAPOWER', 'INDUSINDBK', \\\n",
    "              'TATASTEEL']\n",
    "for symbol in tqdm.tqdm(stk_symbols):\n",
    "    try:\n",
    "        download_contract(symbol, file_count+1, exdate=get_exdates()[0], pexdate=get_exdates()[1])\n",
    "    except:\n",
    "        print(\"Problem while processing \"+symbol+\"'s contract \"+ str(date)+\" value\")\n",
    "        continue\n",
    "    print(\"Successfully Downloaded contracts of\"+symbol)"
   ]
  },
  {
   "cell_type": "code",
   "execution_count": 19,
   "metadata": {},
   "outputs": [
    {
     "name": "stderr",
     "output_type": "stream",
     "text": [
      "\r",
      "  0%|                                                                                                                                                                                                                | 0/2 [00:00<?, ?it/s]"
     ]
    },
    {
     "name": "stdout",
     "output_type": "stream",
     "text": [
      "Successfully Saved ./NIFTY/NIFTY_51_2021-04-29\n",
      "Successfully Downloaded contracts ofNIFTY\n",
      "Successfully Saved ./BANKNIFTY/BANKNIFTY_51_2021-04-29\n",
      "Successfully Downloaded contracts ofBANKNIFTY\n"
     ]
    },
    {
     "name": "stderr",
     "output_type": "stream",
     "text": [
      "100%|████████████████████████████████████████████████████████████████████████████████████████████████████████████████████████████████████████████████████████████████████████████████████████████████████████| 2/2 [00:00<00:00, 12.69it/s]\n"
     ]
    }
   ],
   "source": [
    "index = ['NIFTY', 'BANKNIFTY']\n",
    "for symbol in tqdm.tqdm(index):\n",
    "    try:\n",
    "        download_contract(symbol, file_count+1 , exdate=get_exdates()[0], pexdate=get_exdates()[1], is_index= True)\n",
    "    except:\n",
    "        print(\"Problem while processing \"+symbol+\"'s contract \"+ str(get_exdates()[0])+\" value\")\n",
    "        continue\n",
    "    print(\"Successfully Downloaded contracts of\"+symbol)"
   ]
  },
  {
   "cell_type": "code",
   "execution_count": null,
   "metadata": {},
   "outputs": [],
   "source": []
  }
 ],
 "metadata": {
  "kernelspec": {
   "display_name": "Python 3",
   "language": "python",
   "name": "python3"
  },
  "language_info": {
   "codemirror_mode": {
    "name": "ipython",
    "version": 3
   },
   "file_extension": ".py",
   "mimetype": "text/x-python",
   "name": "python",
   "nbconvert_exporter": "python",
   "pygments_lexer": "ipython3",
   "version": "3.7.4"
  }
 },
 "nbformat": 4,
 "nbformat_minor": 2
}

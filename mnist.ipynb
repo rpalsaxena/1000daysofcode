{
 "cells": [
  {
   "cell_type": "markdown",
   "metadata": {},
   "source": [
    "### Install the required packages to download and unzip data"
   ]
  },
  {
   "cell_type": "code",
   "execution_count": 7,
   "metadata": {},
   "outputs": [
    {
     "name": "stdout",
     "output_type": "stream",
     "text": [
      "Collecting xtarfile\n",
      "  Downloading https://files.pythonhosted.org/packages/e1/48/cdd07360e52e530f2b32992ba0415205dec007df7778216873ccf3c95b7d/xtarfile-0.1.0.tar.gz\n",
      "Building wheels for collected packages: xtarfile\n",
      "  Building wheel for xtarfile (setup.py): started\n",
      "  Building wheel for xtarfile (setup.py): finished with status 'done'\n",
      "  Created wheel for xtarfile: filename=xtarfile-0.1.0-cp37-none-any.whl size=3867 sha256=2a61422c083220d62d69f66f1dd67a2e39e4c6f7541cec7860abdfdae75e5730\n",
      "  Stored in directory: C:\\Users\\rpals\\AppData\\Local\\pip\\Cache\\wheels\\f5\\b4\\44\\c5fe30217f193222fa60a89b0688058322d663dfda176e65c0\n",
      "Successfully built xtarfile\n",
      "Installing collected packages: xtarfile\n",
      "Successfully installed xtarfile-0.1.0\n"
     ]
    }
   ],
   "source": [
    "!pip install xtarfile"
   ]
  },
  {
   "cell_type": "code",
   "execution_count": 8,
   "metadata": {},
   "outputs": [
    {
     "name": "stdout",
     "output_type": "stream",
     "text": [
      "Requirement already satisfied: wget in c:\\users\\rpals\\anaconda3\\lib\\site-packages (3.2)\n"
     ]
    }
   ],
   "source": [
    "!pip install wget"
   ]
  },
  {
   "cell_type": "markdown",
   "metadata": {},
   "source": [
    "### Download data and unzip it"
   ]
  },
  {
   "cell_type": "code",
   "execution_count": 9,
   "metadata": {},
   "outputs": [
    {
     "name": "stdout",
     "output_type": "stream",
     "text": [
      "100% [..............................................................] 23212732 / 23212732"
     ]
    },
    {
     "data": {
      "text/plain": [
       "'MNIST.old.tar.gz'"
      ]
     },
     "execution_count": 9,
     "metadata": {},
     "output_type": "execute_result"
    }
   ],
   "source": [
    "import wget\n",
    "wget.download('https://activeeon-public.s3.eu-west-2.amazonaws.com/datasets/MNIST.old.tar.gz')"
   ]
  },
  {
   "cell_type": "code",
   "execution_count": 11,
   "metadata": {},
   "outputs": [],
   "source": [
    "import tarfile\n",
    "filename = tarfile.open('MNIST.old.tar.gz')\n",
    "filename.extractall('./data') # specify which folder to extract to\n",
    "filename.close()\n"
   ]
  },
  {
   "cell_type": "markdown",
   "metadata": {},
   "source": [
    "### Load MNIST data"
   ]
  },
  {
   "cell_type": "code",
   "execution_count": 16,
   "metadata": {},
   "outputs": [],
   "source": [
    "import torch\n",
    "import numpy as np\n",
    "from torchvision import datasets\n",
    "import torchvision.transforms as transforms\n",
    "\n",
    "transform = transforms.ToTensor()\n",
    "trainset = datasets.MNIST('./data/', download=False, train=True, transform=transform)\n",
    "\n",
    "test_data = datasets.MNIST(root='./data', train=False,\n",
    "                                  download=False, transform=transform)"
   ]
  },
  {
   "cell_type": "code",
   "execution_count": 17,
   "metadata": {},
   "outputs": [
    {
     "data": {
      "text/plain": [
       "['0 - zero',\n",
       " '1 - one',\n",
       " '2 - two',\n",
       " '3 - three',\n",
       " '4 - four',\n",
       " '5 - five',\n",
       " '6 - six',\n",
       " '7 - seven',\n",
       " '8 - eight',\n",
       " '9 - nine']"
      ]
     },
     "execution_count": 17,
     "metadata": {},
     "output_type": "execute_result"
    }
   ],
   "source": [
    "trainset.classes"
   ]
  },
  {
   "cell_type": "code",
   "execution_count": null,
   "metadata": {},
   "outputs": [],
   "source": []
  }
 ],
 "metadata": {
  "kernelspec": {
   "display_name": "Python 3",
   "language": "python",
   "name": "python3"
  },
  "language_info": {
   "codemirror_mode": {
    "name": "ipython",
    "version": 3
   },
   "file_extension": ".py",
   "mimetype": "text/x-python",
   "name": "python",
   "nbconvert_exporter": "python",
   "pygments_lexer": "ipython3",
   "version": "3.7.4"
  }
 },
 "nbformat": 4,
 "nbformat_minor": 2
}

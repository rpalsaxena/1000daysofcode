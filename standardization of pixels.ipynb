{
 "cells": [
  {
   "cell_type": "code",
   "execution_count": 6,
   "metadata": {},
   "outputs": [],
   "source": [
    "# example of global pixel standardization\n",
    "import numpy as np\n",
    "from PIL import Image\n"
   ]
  },
  {
   "cell_type": "code",
   "execution_count": 7,
   "metadata": {},
   "outputs": [
    {
     "name": "stdout",
     "output_type": "stream",
     "text": [
      "<PIL.JpegImagePlugin.JpegImageFile image mode=RGB size=300x300 at 0x17103248108>\n"
     ]
    }
   ],
   "source": [
    "\n",
    "load_img = Image.open('horizontalview.jpg')\n",
    "print(load_img)"
   ]
  },
  {
   "cell_type": "markdown",
   "metadata": {},
   "source": [
    "### Change the loaded image to a numpy array"
   ]
  },
  {
   "cell_type": "code",
   "execution_count": 8,
   "metadata": {},
   "outputs": [
    {
     "name": "stdout",
     "output_type": "stream",
     "text": [
      "[[[255 255 255]\n",
      "  [255 255 255]\n",
      "  [255 255 255]\n",
      "  ...\n",
      "  [255 255 255]\n",
      "  [255 255 255]\n",
      "  [255 255 255]]\n",
      "\n",
      " [[255 255 255]\n",
      "  [255 255 255]\n",
      "  [255 255 255]\n",
      "  ...\n",
      "  [255 255 255]\n",
      "  [255 255 255]\n",
      "  [255 255 255]]\n",
      "\n",
      " [[255 255 255]\n",
      "  [255 255 255]\n",
      "  [255 255 255]\n",
      "  ...\n",
      "  [255 255 255]\n",
      "  [255 255 255]\n",
      "  [255 255 255]]\n",
      "\n",
      " ...\n",
      "\n",
      " [[255 255 255]\n",
      "  [255 255 255]\n",
      "  [255 255 255]\n",
      "  ...\n",
      "  [255 255 255]\n",
      "  [255 255 255]\n",
      "  [255 255 255]]\n",
      "\n",
      " [[255 255 255]\n",
      "  [255 255 255]\n",
      "  [255 255 255]\n",
      "  ...\n",
      "  [255 255 255]\n",
      "  [255 255 255]\n",
      "  [255 255 255]]\n",
      "\n",
      " [[255 255 255]\n",
      "  [255 255 255]\n",
      "  [255 255 255]\n",
      "  ...\n",
      "  [255 255 255]\n",
      "  [255 255 255]\n",
      "  [255 255 255]]]\n"
     ]
    }
   ],
   "source": [
    "img_pixels = np.asarray(image)\n",
    "print(img_pixels)"
   ]
  },
  {
   "cell_type": "code",
   "execution_count": 12,
   "metadata": {},
   "outputs": [
    {
     "name": "stdout",
     "output_type": "stream",
     "text": [
      "Minimum Value:  0\n",
      "Maximum Value:  255\n"
     ]
    }
   ],
   "source": [
    "## Print maximum, minimum values in the pixel value\n",
    "\n",
    "print(\"Minimum Value: \", img_pixels.min())\n",
    "print(\"Maximum Value: \", img_pixels.max())\n",
    "\n"
   ]
  },
  {
   "cell_type": "markdown",
   "metadata": {},
   "source": [
    "### Standardize the pixel values\n"
   ]
  },
  {
   "cell_type": "code",
   "execution_count": 13,
   "metadata": {},
   "outputs": [],
   "source": [
    "\"\"\"\n",
    "1. The pixel values in image are all integers.\n",
    "After standardization, we want the output values to be in a range of 0-1. \n",
    "So, the values should be changed to float.\n",
    "\"\"\"\n",
    "img_pixels = img_pixels.astype('float32')"
   ]
  },
  {
   "cell_type": "code",
   "execution_count": 15,
   "metadata": {},
   "outputs": [
    {
     "name": "stdout",
     "output_type": "stream",
     "text": [
      "Mean: 202.587, Standard Deviation: 87.460\n"
     ]
    }
   ],
   "source": [
    "# calculate global mean and standard deviation\n",
    "mean, std = img_pixels.mean(), img_pixels.std()\n",
    "print('Mean: %.3f, Standard Deviation: %.3f' % (mean, std))\n"
   ]
  },
  {
   "cell_type": "code",
   "execution_count": 16,
   "metadata": {},
   "outputs": [],
   "source": [
    "## Perform standardization by following the formula\n",
    "\n",
    "img_pixels = (img_pixels - mean) / std\n",
    "\n",
    "mean, std = img_pixels.mean(), img_pixels.std()"
   ]
  },
  {
   "cell_type": "code",
   "execution_count": 18,
   "metadata": {},
   "outputs": [
    {
     "name": "stdout",
     "output_type": "stream",
     "text": [
      "Mean: 0.000, Standard Deviation: 1.000\n"
     ]
    }
   ],
   "source": [
    "## Print the mean and std dev of final standardized pixel values\n",
    "print('Mean: %.3f, Standard Deviation: %.3f' % (mean, std))"
   ]
  },
  {
   "cell_type": "markdown",
   "metadata": {},
   "source": [
    "### Check the standardized pixel values"
   ]
  },
  {
   "cell_type": "code",
   "execution_count": 20,
   "metadata": {},
   "outputs": [
    {
     "name": "stdout",
     "output_type": "stream",
     "text": [
      "[[[0.59927636 0.59927636 0.59927636]\n",
      "  [0.59927636 0.59927636 0.59927636]\n",
      "  [0.59927636 0.59927636 0.59927636]\n",
      "  ...\n",
      "  [0.59927636 0.59927636 0.59927636]\n",
      "  [0.59927636 0.59927636 0.59927636]\n",
      "  [0.59927636 0.59927636 0.59927636]]\n",
      "\n",
      " [[0.59927636 0.59927636 0.59927636]\n",
      "  [0.59927636 0.59927636 0.59927636]\n",
      "  [0.59927636 0.59927636 0.59927636]\n",
      "  ...\n",
      "  [0.59927636 0.59927636 0.59927636]\n",
      "  [0.59927636 0.59927636 0.59927636]\n",
      "  [0.59927636 0.59927636 0.59927636]]\n",
      "\n",
      " [[0.59927636 0.59927636 0.59927636]\n",
      "  [0.59927636 0.59927636 0.59927636]\n",
      "  [0.59927636 0.59927636 0.59927636]\n",
      "  ...\n",
      "  [0.59927636 0.59927636 0.59927636]\n",
      "  [0.59927636 0.59927636 0.59927636]\n",
      "  [0.59927636 0.59927636 0.59927636]]\n",
      "\n",
      " ...\n",
      "\n",
      " [[0.59927636 0.59927636 0.59927636]\n",
      "  [0.59927636 0.59927636 0.59927636]\n",
      "  [0.59927636 0.59927636 0.59927636]\n",
      "  ...\n",
      "  [0.59927636 0.59927636 0.59927636]\n",
      "  [0.59927636 0.59927636 0.59927636]\n",
      "  [0.59927636 0.59927636 0.59927636]]\n",
      "\n",
      " [[0.59927636 0.59927636 0.59927636]\n",
      "  [0.59927636 0.59927636 0.59927636]\n",
      "  [0.59927636 0.59927636 0.59927636]\n",
      "  ...\n",
      "  [0.59927636 0.59927636 0.59927636]\n",
      "  [0.59927636 0.59927636 0.59927636]\n",
      "  [0.59927636 0.59927636 0.59927636]]\n",
      "\n",
      " [[0.59927636 0.59927636 0.59927636]\n",
      "  [0.59927636 0.59927636 0.59927636]\n",
      "  [0.59927636 0.59927636 0.59927636]\n",
      "  ...\n",
      "  [0.59927636 0.59927636 0.59927636]\n",
      "  [0.59927636 0.59927636 0.59927636]\n",
      "  [0.59927636 0.59927636 0.59927636]]]\n"
     ]
    }
   ],
   "source": [
    "print(img_pixels)"
   ]
  },
  {
   "cell_type": "code",
   "execution_count": null,
   "metadata": {},
   "outputs": [],
   "source": []
  }
 ],
 "metadata": {
  "kernelspec": {
   "display_name": "Python 3",
   "language": "python",
   "name": "python3"
  },
  "language_info": {
   "codemirror_mode": {
    "name": "ipython",
    "version": 3
   },
   "file_extension": ".py",
   "mimetype": "text/x-python",
   "name": "python",
   "nbconvert_exporter": "python",
   "pygments_lexer": "ipython3",
   "version": "3.7.4"
  }
 },
 "nbformat": 4,
 "nbformat_minor": 2
}
